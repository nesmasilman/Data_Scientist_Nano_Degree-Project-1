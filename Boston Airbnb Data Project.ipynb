{
 "cells": [
  {
   "cell_type": "markdown",
   "id": "7888134f-c5ea-453d-8e36-5d66463d0ca0",
   "metadata": {},
   "source": [
    "# Boston Airbnb Open Data Project\n"
   ]
  },
  {
   "cell_type": "markdown",
   "id": "48856a57",
   "metadata": {},
   "source": [
    "Prepared by: Nesma Silman"
   ]
  },
  {
   "cell_type": "markdown",
   "id": "f8c6c5bd-5d37-4d23-b0b1-5346cc2cbed6",
   "metadata": {},
   "source": [
    "### 1.Context:\n",
    "Since 2008, guests and hosts have used Airbnb to travel in a more unique, personalized way. As part of the Airbnb Inside initiative, this dataset describes the listing activity of homestays in Boston, MA."
   ]
  },
  {
   "cell_type": "markdown",
   "id": "bc3d7df2-007e-4be7-a32d-547037105656",
   "metadata": {},
   "source": [
    "### 2.Content:\n",
    "The following Airbnb activity is included in this Boston dataset day"
   ]
  },
  {
   "cell_type": "markdown",
   "id": "421aa8e3-d987-4814-8eb3-888846d3862f",
   "metadata": {},
   "source": [
    "* Listings: including full descriptions and average review score\n",
    "* Reviews: including unique id for each reviewer and detailed comments\n",
    "* Calendar: including listing id and the price and availability for that day"
   ]
  },
  {
   "cell_type": "markdown",
   "id": "1d9860ff-20ad-4760-b569-7f7a32f609d7",
   "metadata": {},
   "source": [
    "By exploring this dataset, I'll be looking for answers for the below 3 questions:\n",
    "\n",
    "1- Extract the listings with the highest # of reviews (top 10). Which one got the highest % of positive reviews?\n",
    "\n",
    "2- What are the top 3 most frequent neighbourhoods or zipcodes in Boston? (zipcodes with highest number of listings).\n",
    "\n",
    "3- How the price correlates to the property_type? What types are the most expensive?"
   ]
  },
  {
   "cell_type": "markdown",
   "id": "89af3bb5-ebdd-45ba-8ee3-c055eb0d50df",
   "metadata": {},
   "source": [
    "### 3.Data Cleaning & Exploration"
   ]
  },
  {
   "cell_type": "code",
   "execution_count": 1,
   "id": "25e9463a-2980-4dce-9513-bba5853ff5e1",
   "metadata": {},
   "outputs": [],
   "source": [
    "# Let's start by importing our libraries\n",
    "\n",
    "import matplotlib.pyplot as plt #used for plotting data \n",
    "import numpy as np #used for mathematical operations\n",
    "import pandas as pd #used to loading CSV data\n",
    "import seaborn as sns #used for plotting data "
   ]
  },
  {
   "cell_type": "code",
   "execution_count": 2,
   "id": "2a68532e-4fde-4550-997b-c78b00281bc2",
   "metadata": {},
   "outputs": [],
   "source": [
    "# Suppress warning messages\n",
    "\n",
    "import warnings\n",
    "warnings.filterwarnings('ignore')"
   ]
  },
  {
   "cell_type": "code",
   "execution_count": 3,
   "id": "34f08067-4ecf-455b-b728-8b1211978640",
   "metadata": {},
   "outputs": [
    {
     "name": "stdout",
     "output_type": "stream",
     "text": [
      "['calendar.csv', 'listings.csv', 'reviews.csv']\n"
     ]
    }
   ],
   "source": [
    "# Open the zip folder and check the files\n",
    "\n",
    "import zipfile\n",
    "\n",
    "z = zipfile.ZipFile('archive (3).zip')\n",
    "\n",
    "print (z.namelist())"
   ]
  },
  {
   "cell_type": "code",
   "execution_count": 4,
   "id": "be67af05-b7c9-4e5c-9895-2bf8fb51029a",
   "metadata": {},
   "outputs": [],
   "source": [
    "# Read the datasets\n",
    "\n",
    "df_calendar= pd.read_csv(z.open('calendar.csv'))\n",
    "df_listings= pd.read_csv(z.open('listings.csv'))\n",
    "df_reviews= pd.read_csv(z.open('reviews.csv'))"
   ]
  },
  {
   "cell_type": "code",
   "execution_count": 5,
   "id": "2b614c9d-38ca-47ae-a9fe-74f7f23f0220",
   "metadata": {},
   "outputs": [
    {
     "data": {
      "text/html": [
       "<div>\n",
       "<style scoped>\n",
       "    .dataframe tbody tr th:only-of-type {\n",
       "        vertical-align: middle;\n",
       "    }\n",
       "\n",
       "    .dataframe tbody tr th {\n",
       "        vertical-align: top;\n",
       "    }\n",
       "\n",
       "    .dataframe thead th {\n",
       "        text-align: right;\n",
       "    }\n",
       "</style>\n",
       "<table border=\"1\" class=\"dataframe\">\n",
       "  <thead>\n",
       "    <tr style=\"text-align: right;\">\n",
       "      <th></th>\n",
       "      <th>listing_id</th>\n",
       "      <th>date</th>\n",
       "      <th>available</th>\n",
       "      <th>price</th>\n",
       "    </tr>\n",
       "  </thead>\n",
       "  <tbody>\n",
       "    <tr>\n",
       "      <th>0</th>\n",
       "      <td>12147973</td>\n",
       "      <td>2017-09-05</td>\n",
       "      <td>f</td>\n",
       "      <td>NaN</td>\n",
       "    </tr>\n",
       "    <tr>\n",
       "      <th>1</th>\n",
       "      <td>12147973</td>\n",
       "      <td>2017-09-04</td>\n",
       "      <td>f</td>\n",
       "      <td>NaN</td>\n",
       "    </tr>\n",
       "  </tbody>\n",
       "</table>\n",
       "</div>"
      ],
      "text/plain": [
       "   listing_id        date available price\n",
       "0    12147973  2017-09-05         f   NaN\n",
       "1    12147973  2017-09-04         f   NaN"
      ]
     },
     "execution_count": 5,
     "metadata": {},
     "output_type": "execute_result"
    }
   ],
   "source": [
    "df_calendar.head(2)"
   ]
  },
  {
   "cell_type": "code",
   "execution_count": 6,
   "id": "14f44abf-7ba7-4b8c-9630-812a13a537c7",
   "metadata": {},
   "outputs": [
    {
     "data": {
      "text/html": [
       "<div>\n",
       "<style scoped>\n",
       "    .dataframe tbody tr th:only-of-type {\n",
       "        vertical-align: middle;\n",
       "    }\n",
       "\n",
       "    .dataframe tbody tr th {\n",
       "        vertical-align: top;\n",
       "    }\n",
       "\n",
       "    .dataframe thead th {\n",
       "        text-align: right;\n",
       "    }\n",
       "</style>\n",
       "<table border=\"1\" class=\"dataframe\">\n",
       "  <thead>\n",
       "    <tr style=\"text-align: right;\">\n",
       "      <th></th>\n",
       "      <th>id</th>\n",
       "      <th>listing_url</th>\n",
       "      <th>scrape_id</th>\n",
       "      <th>last_scraped</th>\n",
       "      <th>name</th>\n",
       "      <th>summary</th>\n",
       "      <th>space</th>\n",
       "      <th>description</th>\n",
       "      <th>experiences_offered</th>\n",
       "      <th>neighborhood_overview</th>\n",
       "      <th>...</th>\n",
       "      <th>review_scores_value</th>\n",
       "      <th>requires_license</th>\n",
       "      <th>license</th>\n",
       "      <th>jurisdiction_names</th>\n",
       "      <th>instant_bookable</th>\n",
       "      <th>cancellation_policy</th>\n",
       "      <th>require_guest_profile_picture</th>\n",
       "      <th>require_guest_phone_verification</th>\n",
       "      <th>calculated_host_listings_count</th>\n",
       "      <th>reviews_per_month</th>\n",
       "    </tr>\n",
       "  </thead>\n",
       "  <tbody>\n",
       "    <tr>\n",
       "      <th>0</th>\n",
       "      <td>12147973</td>\n",
       "      <td>https://www.airbnb.com/rooms/12147973</td>\n",
       "      <td>20160906204935</td>\n",
       "      <td>2016-09-07</td>\n",
       "      <td>Sunny Bungalow in the City</td>\n",
       "      <td>Cozy, sunny, family home.  Master bedroom high...</td>\n",
       "      <td>The house has an open and cozy feel at the sam...</td>\n",
       "      <td>Cozy, sunny, family home.  Master bedroom high...</td>\n",
       "      <td>none</td>\n",
       "      <td>Roslindale is quiet, convenient and friendly. ...</td>\n",
       "      <td>...</td>\n",
       "      <td>NaN</td>\n",
       "      <td>f</td>\n",
       "      <td>NaN</td>\n",
       "      <td>NaN</td>\n",
       "      <td>f</td>\n",
       "      <td>moderate</td>\n",
       "      <td>f</td>\n",
       "      <td>f</td>\n",
       "      <td>1</td>\n",
       "      <td>NaN</td>\n",
       "    </tr>\n",
       "    <tr>\n",
       "      <th>1</th>\n",
       "      <td>3075044</td>\n",
       "      <td>https://www.airbnb.com/rooms/3075044</td>\n",
       "      <td>20160906204935</td>\n",
       "      <td>2016-09-07</td>\n",
       "      <td>Charming room in pet friendly apt</td>\n",
       "      <td>Charming and quiet room in a second floor 1910...</td>\n",
       "      <td>Small but cozy and quite room with a full size...</td>\n",
       "      <td>Charming and quiet room in a second floor 1910...</td>\n",
       "      <td>none</td>\n",
       "      <td>The room is in Roslindale, a diverse and prima...</td>\n",
       "      <td>...</td>\n",
       "      <td>9.0</td>\n",
       "      <td>f</td>\n",
       "      <td>NaN</td>\n",
       "      <td>NaN</td>\n",
       "      <td>t</td>\n",
       "      <td>moderate</td>\n",
       "      <td>f</td>\n",
       "      <td>f</td>\n",
       "      <td>1</td>\n",
       "      <td>1.3</td>\n",
       "    </tr>\n",
       "  </tbody>\n",
       "</table>\n",
       "<p>2 rows × 95 columns</p>\n",
       "</div>"
      ],
      "text/plain": [
       "         id                            listing_url       scrape_id  \\\n",
       "0  12147973  https://www.airbnb.com/rooms/12147973  20160906204935   \n",
       "1   3075044   https://www.airbnb.com/rooms/3075044  20160906204935   \n",
       "\n",
       "  last_scraped                               name  \\\n",
       "0   2016-09-07         Sunny Bungalow in the City   \n",
       "1   2016-09-07  Charming room in pet friendly apt   \n",
       "\n",
       "                                             summary  \\\n",
       "0  Cozy, sunny, family home.  Master bedroom high...   \n",
       "1  Charming and quiet room in a second floor 1910...   \n",
       "\n",
       "                                               space  \\\n",
       "0  The house has an open and cozy feel at the sam...   \n",
       "1  Small but cozy and quite room with a full size...   \n",
       "\n",
       "                                         description experiences_offered  \\\n",
       "0  Cozy, sunny, family home.  Master bedroom high...                none   \n",
       "1  Charming and quiet room in a second floor 1910...                none   \n",
       "\n",
       "                               neighborhood_overview  ... review_scores_value  \\\n",
       "0  Roslindale is quiet, convenient and friendly. ...  ...                 NaN   \n",
       "1  The room is in Roslindale, a diverse and prima...  ...                 9.0   \n",
       "\n",
       "  requires_license license jurisdiction_names instant_bookable  \\\n",
       "0                f     NaN                NaN                f   \n",
       "1                f     NaN                NaN                t   \n",
       "\n",
       "  cancellation_policy require_guest_profile_picture  \\\n",
       "0            moderate                             f   \n",
       "1            moderate                             f   \n",
       "\n",
       "  require_guest_phone_verification calculated_host_listings_count  \\\n",
       "0                                f                              1   \n",
       "1                                f                              1   \n",
       "\n",
       "   reviews_per_month  \n",
       "0                NaN  \n",
       "1                1.3  \n",
       "\n",
       "[2 rows x 95 columns]"
      ]
     },
     "execution_count": 6,
     "metadata": {},
     "output_type": "execute_result"
    }
   ],
   "source": [
    "df_listings.head(2)"
   ]
  },
  {
   "cell_type": "code",
   "execution_count": 7,
   "id": "e05b7bd1-4d67-42ee-b889-17e8d667a3cf",
   "metadata": {},
   "outputs": [
    {
     "data": {
      "text/html": [
       "<div>\n",
       "<style scoped>\n",
       "    .dataframe tbody tr th:only-of-type {\n",
       "        vertical-align: middle;\n",
       "    }\n",
       "\n",
       "    .dataframe tbody tr th {\n",
       "        vertical-align: top;\n",
       "    }\n",
       "\n",
       "    .dataframe thead th {\n",
       "        text-align: right;\n",
       "    }\n",
       "</style>\n",
       "<table border=\"1\" class=\"dataframe\">\n",
       "  <thead>\n",
       "    <tr style=\"text-align: right;\">\n",
       "      <th></th>\n",
       "      <th>listing_id</th>\n",
       "      <th>id</th>\n",
       "      <th>date</th>\n",
       "      <th>reviewer_id</th>\n",
       "      <th>reviewer_name</th>\n",
       "      <th>comments</th>\n",
       "    </tr>\n",
       "  </thead>\n",
       "  <tbody>\n",
       "    <tr>\n",
       "      <th>0</th>\n",
       "      <td>1178162</td>\n",
       "      <td>4724140</td>\n",
       "      <td>2013-05-21</td>\n",
       "      <td>4298113</td>\n",
       "      <td>Olivier</td>\n",
       "      <td>My stay at islam's place was really cool! Good...</td>\n",
       "    </tr>\n",
       "    <tr>\n",
       "      <th>1</th>\n",
       "      <td>1178162</td>\n",
       "      <td>4869189</td>\n",
       "      <td>2013-05-29</td>\n",
       "      <td>6452964</td>\n",
       "      <td>Charlotte</td>\n",
       "      <td>Great location for both airport and city - gre...</td>\n",
       "    </tr>\n",
       "  </tbody>\n",
       "</table>\n",
       "</div>"
      ],
      "text/plain": [
       "   listing_id       id        date  reviewer_id reviewer_name  \\\n",
       "0     1178162  4724140  2013-05-21      4298113       Olivier   \n",
       "1     1178162  4869189  2013-05-29      6452964     Charlotte   \n",
       "\n",
       "                                            comments  \n",
       "0  My stay at islam's place was really cool! Good...  \n",
       "1  Great location for both airport and city - gre...  "
      ]
     },
     "execution_count": 7,
     "metadata": {},
     "output_type": "execute_result"
    }
   ],
   "source": [
    "df_reviews.head(2)"
   ]
  },
  {
   "cell_type": "code",
   "execution_count": 8,
   "id": "71bc8f25-80cf-42fc-a4b2-72cb9a8bf2d8",
   "metadata": {},
   "outputs": [
    {
     "name": "stdout",
     "output_type": "stream",
     "text": [
      "The shape of the calendar is (1308890, 4)\n",
      "The shape of the listings is (3585, 95)\n",
      "The shape of the reviews is (68275, 6)\n"
     ]
    }
   ],
   "source": [
    "print(\"The shape of the calendar is {}\".format(df_calendar.shape))\n",
    "print(\"The shape of the listings is {}\".format(df_listings.shape))\n",
    "print(\"The shape of the reviews is {}\".format(df_reviews.shape))"
   ]
  },
  {
   "cell_type": "markdown",
   "id": "f7448f3d-ff9f-46d4-9932-85cc214fda63",
   "metadata": {},
   "source": [
    "Let's check the info for all datasets."
   ]
  },
  {
   "cell_type": "code",
   "execution_count": 9,
   "id": "2b0148d0-b2c8-427f-abde-743c2b0fb55b",
   "metadata": {},
   "outputs": [
    {
     "name": "stdout",
     "output_type": "stream",
     "text": [
      "<class 'pandas.core.frame.DataFrame'>\n",
      "RangeIndex: 1308890 entries, 0 to 1308889\n",
      "Data columns (total 4 columns):\n",
      " #   Column      Non-Null Count    Dtype \n",
      "---  ------      --------------    ----- \n",
      " 0   listing_id  1308890 non-null  int64 \n",
      " 1   date        1308890 non-null  object\n",
      " 2   available   1308890 non-null  object\n",
      " 3   price       643037 non-null   object\n",
      "dtypes: int64(1), object(3)\n",
      "memory usage: 39.9+ MB\n"
     ]
    }
   ],
   "source": [
    "df_calendar.info()"
   ]
  },
  {
   "cell_type": "code",
   "execution_count": 10,
   "id": "008cb9c8-de8e-4894-980d-6072eaa082af",
   "metadata": {},
   "outputs": [
    {
     "name": "stdout",
     "output_type": "stream",
     "text": [
      "<class 'pandas.core.frame.DataFrame'>\n",
      "RangeIndex: 3585 entries, 0 to 3584\n",
      "Data columns (total 95 columns):\n",
      " #   Column                            Non-Null Count  Dtype  \n",
      "---  ------                            --------------  -----  \n",
      " 0   id                                3585 non-null   int64  \n",
      " 1   listing_url                       3585 non-null   object \n",
      " 2   scrape_id                         3585 non-null   int64  \n",
      " 3   last_scraped                      3585 non-null   object \n",
      " 4   name                              3585 non-null   object \n",
      " 5   summary                           3442 non-null   object \n",
      " 6   space                             2528 non-null   object \n",
      " 7   description                       3585 non-null   object \n",
      " 8   experiences_offered               3585 non-null   object \n",
      " 9   neighborhood_overview             2170 non-null   object \n",
      " 10  notes                             1610 non-null   object \n",
      " 11  transit                           2295 non-null   object \n",
      " 12  access                            2096 non-null   object \n",
      " 13  interaction                       2031 non-null   object \n",
      " 14  house_rules                       2393 non-null   object \n",
      " 15  thumbnail_url                     2986 non-null   object \n",
      " 16  medium_url                        2986 non-null   object \n",
      " 17  picture_url                       3585 non-null   object \n",
      " 18  xl_picture_url                    2986 non-null   object \n",
      " 19  host_id                           3585 non-null   int64  \n",
      " 20  host_url                          3585 non-null   object \n",
      " 21  host_name                         3585 non-null   object \n",
      " 22  host_since                        3585 non-null   object \n",
      " 23  host_location                     3574 non-null   object \n",
      " 24  host_about                        2276 non-null   object \n",
      " 25  host_response_time                3114 non-null   object \n",
      " 26  host_response_rate                3114 non-null   object \n",
      " 27  host_acceptance_rate              3114 non-null   object \n",
      " 28  host_is_superhost                 3585 non-null   object \n",
      " 29  host_thumbnail_url                3585 non-null   object \n",
      " 30  host_picture_url                  3585 non-null   object \n",
      " 31  host_neighbourhood                3246 non-null   object \n",
      " 32  host_listings_count               3585 non-null   int64  \n",
      " 33  host_total_listings_count         3585 non-null   int64  \n",
      " 34  host_verifications                3585 non-null   object \n",
      " 35  host_has_profile_pic              3585 non-null   object \n",
      " 36  host_identity_verified            3585 non-null   object \n",
      " 37  street                            3585 non-null   object \n",
      " 38  neighbourhood                     3042 non-null   object \n",
      " 39  neighbourhood_cleansed            3585 non-null   object \n",
      " 40  neighbourhood_group_cleansed      0 non-null      float64\n",
      " 41  city                              3583 non-null   object \n",
      " 42  state                             3585 non-null   object \n",
      " 43  zipcode                           3547 non-null   object \n",
      " 44  market                            3571 non-null   object \n",
      " 45  smart_location                    3585 non-null   object \n",
      " 46  country_code                      3585 non-null   object \n",
      " 47  country                           3585 non-null   object \n",
      " 48  latitude                          3585 non-null   float64\n",
      " 49  longitude                         3585 non-null   float64\n",
      " 50  is_location_exact                 3585 non-null   object \n",
      " 51  property_type                     3582 non-null   object \n",
      " 52  room_type                         3585 non-null   object \n",
      " 53  accommodates                      3585 non-null   int64  \n",
      " 54  bathrooms                         3571 non-null   float64\n",
      " 55  bedrooms                          3575 non-null   float64\n",
      " 56  beds                              3576 non-null   float64\n",
      " 57  bed_type                          3585 non-null   object \n",
      " 58  amenities                         3585 non-null   object \n",
      " 59  square_feet                       56 non-null     float64\n",
      " 60  price                             3585 non-null   object \n",
      " 61  weekly_price                      892 non-null    object \n",
      " 62  monthly_price                     888 non-null    object \n",
      " 63  security_deposit                  1342 non-null   object \n",
      " 64  cleaning_fee                      2478 non-null   object \n",
      " 65  guests_included                   3585 non-null   int64  \n",
      " 66  extra_people                      3585 non-null   object \n",
      " 67  minimum_nights                    3585 non-null   int64  \n",
      " 68  maximum_nights                    3585 non-null   int64  \n",
      " 69  calendar_updated                  3585 non-null   object \n",
      " 70  has_availability                  0 non-null      float64\n",
      " 71  availability_30                   3585 non-null   int64  \n",
      " 72  availability_60                   3585 non-null   int64  \n",
      " 73  availability_90                   3585 non-null   int64  \n",
      " 74  availability_365                  3585 non-null   int64  \n",
      " 75  calendar_last_scraped             3585 non-null   object \n",
      " 76  number_of_reviews                 3585 non-null   int64  \n",
      " 77  first_review                      2829 non-null   object \n",
      " 78  last_review                       2829 non-null   object \n",
      " 79  review_scores_rating              2772 non-null   float64\n",
      " 80  review_scores_accuracy            2762 non-null   float64\n",
      " 81  review_scores_cleanliness         2767 non-null   float64\n",
      " 82  review_scores_checkin             2765 non-null   float64\n",
      " 83  review_scores_communication       2767 non-null   float64\n",
      " 84  review_scores_location            2763 non-null   float64\n",
      " 85  review_scores_value               2764 non-null   float64\n",
      " 86  requires_license                  3585 non-null   object \n",
      " 87  license                           0 non-null      float64\n",
      " 88  jurisdiction_names                0 non-null      float64\n",
      " 89  instant_bookable                  3585 non-null   object \n",
      " 90  cancellation_policy               3585 non-null   object \n",
      " 91  require_guest_profile_picture     3585 non-null   object \n",
      " 92  require_guest_phone_verification  3585 non-null   object \n",
      " 93  calculated_host_listings_count    3585 non-null   int64  \n",
      " 94  reviews_per_month                 2829 non-null   float64\n",
      "dtypes: float64(18), int64(15), object(62)\n",
      "memory usage: 2.6+ MB\n"
     ]
    }
   ],
   "source": [
    "df_listings.info()"
   ]
  },
  {
   "cell_type": "code",
   "execution_count": 11,
   "id": "ef2b9e7d-ee20-4287-9f61-7f33beb9d312",
   "metadata": {},
   "outputs": [
    {
     "name": "stdout",
     "output_type": "stream",
     "text": [
      "<class 'pandas.core.frame.DataFrame'>\n",
      "RangeIndex: 68275 entries, 0 to 68274\n",
      "Data columns (total 6 columns):\n",
      " #   Column         Non-Null Count  Dtype \n",
      "---  ------         --------------  ----- \n",
      " 0   listing_id     68275 non-null  int64 \n",
      " 1   id             68275 non-null  int64 \n",
      " 2   date           68275 non-null  object\n",
      " 3   reviewer_id    68275 non-null  int64 \n",
      " 4   reviewer_name  68275 non-null  object\n",
      " 5   comments       68222 non-null  object\n",
      "dtypes: int64(3), object(3)\n",
      "memory usage: 3.1+ MB\n"
     ]
    }
   ],
   "source": [
    "df_reviews.info()"
   ]
  },
  {
   "cell_type": "markdown",
   "id": "59aae172-9207-4275-ade8-1234d2c3bfce",
   "metadata": {},
   "source": [
    "By taking a look at the .info method for the 3 datasets, it seems that listings dataset is the major one with all important information. We can merge the other 2 datasets to this one and then take a deeper look at the details. We have a common column in the 3 datasets which is \"listing_id\". I will use it to do the merge."
   ]
  },
  {
   "cell_type": "code",
   "execution_count": 12,
   "id": "0ad792f8-b382-4f85-bfce-d3b62968e7b9",
   "metadata": {},
   "outputs": [
    {
     "data": {
      "text/html": [
       "<div>\n",
       "<style scoped>\n",
       "    .dataframe tbody tr th:only-of-type {\n",
       "        vertical-align: middle;\n",
       "    }\n",
       "\n",
       "    .dataframe tbody tr th {\n",
       "        vertical-align: top;\n",
       "    }\n",
       "\n",
       "    .dataframe thead th {\n",
       "        text-align: right;\n",
       "    }\n",
       "</style>\n",
       "<table border=\"1\" class=\"dataframe\">\n",
       "  <thead>\n",
       "    <tr style=\"text-align: right;\">\n",
       "      <th></th>\n",
       "      <th>id</th>\n",
       "      <th>listing_url</th>\n",
       "      <th>scrape_id</th>\n",
       "      <th>last_scraped</th>\n",
       "      <th>name</th>\n",
       "      <th>summary</th>\n",
       "      <th>space</th>\n",
       "      <th>description</th>\n",
       "      <th>experiences_offered</th>\n",
       "      <th>neighborhood_overview</th>\n",
       "      <th>...</th>\n",
       "      <th>instant_bookable</th>\n",
       "      <th>cancellation_policy</th>\n",
       "      <th>require_guest_profile_picture</th>\n",
       "      <th>require_guest_phone_verification</th>\n",
       "      <th>calculated_host_listings_count</th>\n",
       "      <th>reviews_per_month</th>\n",
       "      <th>listing_id</th>\n",
       "      <th>date</th>\n",
       "      <th>available</th>\n",
       "      <th>price_cal</th>\n",
       "    </tr>\n",
       "  </thead>\n",
       "  <tbody>\n",
       "    <tr>\n",
       "      <th>0</th>\n",
       "      <td>12147973</td>\n",
       "      <td>https://www.airbnb.com/rooms/12147973</td>\n",
       "      <td>20160906204935</td>\n",
       "      <td>2016-09-07</td>\n",
       "      <td>Sunny Bungalow in the City</td>\n",
       "      <td>Cozy, sunny, family home.  Master bedroom high...</td>\n",
       "      <td>The house has an open and cozy feel at the sam...</td>\n",
       "      <td>Cozy, sunny, family home.  Master bedroom high...</td>\n",
       "      <td>none</td>\n",
       "      <td>Roslindale is quiet, convenient and friendly. ...</td>\n",
       "      <td>...</td>\n",
       "      <td>f</td>\n",
       "      <td>moderate</td>\n",
       "      <td>f</td>\n",
       "      <td>f</td>\n",
       "      <td>1</td>\n",
       "      <td>NaN</td>\n",
       "      <td>NaN</td>\n",
       "      <td>NaN</td>\n",
       "      <td>NaN</td>\n",
       "      <td>NaN</td>\n",
       "    </tr>\n",
       "  </tbody>\n",
       "</table>\n",
       "<p>1 rows × 99 columns</p>\n",
       "</div>"
      ],
      "text/plain": [
       "         id                            listing_url       scrape_id  \\\n",
       "0  12147973  https://www.airbnb.com/rooms/12147973  20160906204935   \n",
       "\n",
       "  last_scraped                        name  \\\n",
       "0   2016-09-07  Sunny Bungalow in the City   \n",
       "\n",
       "                                             summary  \\\n",
       "0  Cozy, sunny, family home.  Master bedroom high...   \n",
       "\n",
       "                                               space  \\\n",
       "0  The house has an open and cozy feel at the sam...   \n",
       "\n",
       "                                         description experiences_offered  \\\n",
       "0  Cozy, sunny, family home.  Master bedroom high...                none   \n",
       "\n",
       "                               neighborhood_overview  ... instant_bookable  \\\n",
       "0  Roslindale is quiet, convenient and friendly. ...  ...                f   \n",
       "\n",
       "  cancellation_policy require_guest_profile_picture  \\\n",
       "0            moderate                             f   \n",
       "\n",
       "  require_guest_phone_verification calculated_host_listings_count  \\\n",
       "0                                f                              1   \n",
       "\n",
       "  reviews_per_month listing_id date available  price_cal  \n",
       "0               NaN        NaN  NaN       NaN        NaN  \n",
       "\n",
       "[1 rows x 99 columns]"
      ]
     },
     "execution_count": 12,
     "metadata": {},
     "output_type": "execute_result"
    }
   ],
   "source": [
    "df_main= df_listings.join(df_calendar, how='left', on= 'id', rsuffix='_cal')\n",
    "df_main.head(1)"
   ]
  },
  {
   "cell_type": "markdown",
   "id": "67a8f8f8-9556-4cb3-9089-466023c88ec7",
   "metadata": {},
   "source": [
    "Next, I want to join the \"reviews\" dataset with them. But first, let's see if this data contains multiple rows for each listing to include each review separatey, or each listing has only 1 review. "
   ]
  },
  {
   "cell_type": "code",
   "execution_count": 13,
   "id": "212e0a50-dd61-4683-a507-a07f37171f00",
   "metadata": {},
   "outputs": [
    {
     "data": {
      "text/html": [
       "<div>\n",
       "<style scoped>\n",
       "    .dataframe tbody tr th:only-of-type {\n",
       "        vertical-align: middle;\n",
       "    }\n",
       "\n",
       "    .dataframe tbody tr th {\n",
       "        vertical-align: top;\n",
       "    }\n",
       "\n",
       "    .dataframe thead th {\n",
       "        text-align: right;\n",
       "    }\n",
       "</style>\n",
       "<table border=\"1\" class=\"dataframe\">\n",
       "  <thead>\n",
       "    <tr style=\"text-align: right;\">\n",
       "      <th></th>\n",
       "      <th>listing_id</th>\n",
       "      <th>id</th>\n",
       "      <th>date</th>\n",
       "      <th>reviewer_id</th>\n",
       "      <th>reviewer_name</th>\n",
       "      <th>comments</th>\n",
       "    </tr>\n",
       "  </thead>\n",
       "  <tbody>\n",
       "    <tr>\n",
       "      <th>0</th>\n",
       "      <td>1178162</td>\n",
       "      <td>4724140</td>\n",
       "      <td>2013-05-21</td>\n",
       "      <td>4298113</td>\n",
       "      <td>Olivier</td>\n",
       "      <td>My stay at islam's place was really cool! Good...</td>\n",
       "    </tr>\n",
       "    <tr>\n",
       "      <th>1</th>\n",
       "      <td>1178162</td>\n",
       "      <td>4869189</td>\n",
       "      <td>2013-05-29</td>\n",
       "      <td>6452964</td>\n",
       "      <td>Charlotte</td>\n",
       "      <td>Great location for both airport and city - gre...</td>\n",
       "    </tr>\n",
       "    <tr>\n",
       "      <th>2</th>\n",
       "      <td>1178162</td>\n",
       "      <td>5003196</td>\n",
       "      <td>2013-06-06</td>\n",
       "      <td>6449554</td>\n",
       "      <td>Sebastian</td>\n",
       "      <td>We really enjoyed our stay at Islams house. Fr...</td>\n",
       "    </tr>\n",
       "    <tr>\n",
       "      <th>3</th>\n",
       "      <td>1178162</td>\n",
       "      <td>5150351</td>\n",
       "      <td>2013-06-15</td>\n",
       "      <td>2215611</td>\n",
       "      <td>Marine</td>\n",
       "      <td>The room was nice and clean and so were the co...</td>\n",
       "    </tr>\n",
       "    <tr>\n",
       "      <th>4</th>\n",
       "      <td>1178162</td>\n",
       "      <td>5171140</td>\n",
       "      <td>2013-06-16</td>\n",
       "      <td>6848427</td>\n",
       "      <td>Andrew</td>\n",
       "      <td>Great location. Just 5 mins walk from the Airp...</td>\n",
       "    </tr>\n",
       "  </tbody>\n",
       "</table>\n",
       "</div>"
      ],
      "text/plain": [
       "   listing_id       id        date  reviewer_id reviewer_name  \\\n",
       "0     1178162  4724140  2013-05-21      4298113       Olivier   \n",
       "1     1178162  4869189  2013-05-29      6452964     Charlotte   \n",
       "2     1178162  5003196  2013-06-06      6449554     Sebastian   \n",
       "3     1178162  5150351  2013-06-15      2215611        Marine   \n",
       "4     1178162  5171140  2013-06-16      6848427        Andrew   \n",
       "\n",
       "                                            comments  \n",
       "0  My stay at islam's place was really cool! Good...  \n",
       "1  Great location for both airport and city - gre...  \n",
       "2  We really enjoyed our stay at Islams house. Fr...  \n",
       "3  The room was nice and clean and so were the co...  \n",
       "4  Great location. Just 5 mins walk from the Airp...  "
      ]
     },
     "execution_count": 13,
     "metadata": {},
     "output_type": "execute_result"
    }
   ],
   "source": [
    "df_reviews.head()"
   ]
  },
  {
   "cell_type": "markdown",
   "id": "4138d30a-f42c-4d65-9316-832b46a74eb7",
   "metadata": {},
   "source": [
    "Apparently, listings have multiple rows. Every row contains a separate review with its details. Accordingly, we can't join this dataset with the other 2 at the moment. We need to analyse the data and aggregate it to have one row per listing, and then merge with the other main dataset.\n",
    "\n",
    "Let's start with the df_reviews dataset"
   ]
  },
  {
   "cell_type": "code",
   "execution_count": 13,
   "id": "0dfdbcb5-f572-40c0-974d-24cddac4e355",
   "metadata": {},
   "outputs": [
    {
     "data": {
      "text/plain": [
       "listing_id        0\n",
       "id                0\n",
       "date              0\n",
       "reviewer_id       0\n",
       "reviewer_name     0\n",
       "comments         53\n",
       "dtype: int64"
      ]
     },
     "execution_count": 13,
     "metadata": {},
     "output_type": "execute_result"
    }
   ],
   "source": [
    "df_reviews.isna().sum()"
   ]
  },
  {
   "cell_type": "markdown",
   "id": "3ccc691e-fd6c-4d38-a74e-ec63aa768268",
   "metadata": {},
   "source": [
    "We have a small # of missing values in the comments column. I believe we can drop them because these comments are the reviews we are trying to analyze, we can't impute them."
   ]
  },
  {
   "cell_type": "code",
   "execution_count": 14,
   "id": "fe306eec-1d14-43ce-be7b-951e40f83929",
   "metadata": {},
   "outputs": [
    {
     "data": {
      "text/plain": [
       "listing_id       0\n",
       "id               0\n",
       "date             0\n",
       "reviewer_id      0\n",
       "reviewer_name    0\n",
       "comments         0\n",
       "dtype: int64"
      ]
     },
     "execution_count": 14,
     "metadata": {},
     "output_type": "execute_result"
    }
   ],
   "source": [
    "df_reviews1=df_reviews.dropna(axis=0)\n",
    "df_reviews1.isna().sum()"
   ]
  },
  {
   "cell_type": "markdown",
   "id": "740af183-3df9-4edc-bccf-34e4943f4877",
   "metadata": {},
   "source": [
    "Now let's analyze each review and classify it under 3 main categories [positive, neutral, negative]. We can use ready-made libraries for the sentiment analysis task"
   ]
  },
  {
   "cell_type": "code",
   "execution_count": 15,
   "id": "b69bfe4f-ec4c-4c33-8092-811061d359e7",
   "metadata": {},
   "outputs": [],
   "source": [
    "import inflect\n",
    "import re\n",
    "import nltk\n",
    "from nltk.corpus import stopwords\n",
    "from nltk import word_tokenize\n",
    "from nltk.stem import WordNetLemmatizer\n",
    "import string\n",
    "from nltk.corpus import wordnet as wn"
   ]
  },
  {
   "cell_type": "code",
   "execution_count": 16,
   "id": "c6d62d05-ac82-471b-aeb6-968cea1c5691",
   "metadata": {},
   "outputs": [],
   "source": [
    "p = inflect.engine()\n",
    "def convert_number(text):\n",
    "    \"\"\"Takes in a text, searches for numbers in digit format, and transforms it into letters (text format)\"\"\"\n",
    "    \n",
    "    temp_str = text.split()\n",
    "    new_string = []\n",
    " \n",
    "    for word in temp_str:\n",
    "        if word.isdigit():\n",
    "            temp = p.number_to_words(word)\n",
    "            new_string.append(temp)\n",
    "        else:\n",
    "            new_string.append(word)\n",
    " \n",
    "    temp_str = ' '.join(new_string)\n",
    "    return temp_str"
   ]
  },
  {
   "cell_type": "code",
   "execution_count": 17,
   "id": "c338bb2f-d1e3-452a-8b71-d0752dfc06df",
   "metadata": {},
   "outputs": [],
   "source": [
    "english_stops = stopwords.words('english')\n",
    "#add punctuation to stopwords\n",
    "english_stops += list(string.punctuation)"
   ]
  },
  {
   "cell_type": "code",
   "execution_count": 18,
   "id": "05c01cab-d7ed-4649-b533-a3aa2a96c439",
   "metadata": {},
   "outputs": [],
   "source": [
    "def text_processing(row):\n",
    "    \"\"\"Takes in a reviews row, makes all pre-processing steps to prepare for sentiment analysis\"\"\"\n",
    "    \n",
    "    row['comments'] = row['comments'].lower()               ### convert text to lower case\n",
    "    row['comments'] = re.sub(r\"\\s+[a-zA-Z]\\s+\", \" \", row['comments'])   \n",
    "    clean = re.compile('<.*?>')\n",
    "    row['comments'] = re.sub(clean, '', row['comments'])\n",
    "    row['comments'] = re.sub(r\"\\s+\",\" \", row['comments'], flags = re.I)\n",
    "    row['comments'] = re.sub(r'^https?:\\/\\/.*[\\r\\n]*', '', row['comments'], flags=re.MULTILINE)\n",
    "    row['comments'] = re.sub(r\"\\W\", \" \", row['comments'], flags=re.I)  ### remove all non-word characters\n",
    "    row['comments'] = convert_number(row['comments'])       ### convert number to text\n",
    "  \n",
    "    review_words = word_tokenize(row['comments'])        ### get words from text\n",
    "    review_words_no_stop = [item for item in review_words if item not in english_stops] ### removes stopwords & punctuation\n",
    "    wordnet_lemmatizer = WordNetLemmatizer()\n",
    "    words_lemmatization = [wordnet_lemmatizer.lemmatize(item) for item in review_words_no_stop] ### lemmatize words\n",
    "    words_in_english = [item for item in words_lemmatization if len(wn.synsets(item)) != 0]\n",
    "    \n",
    "    unique_words = list(set(words_in_english))      ### removes duplicated words\n",
    "    \n",
    "    row['comments'] = \" \".join(unique_words)             ### Concatenate all words\n",
    "    return row['comments']"
   ]
  },
  {
   "cell_type": "code",
   "execution_count": 19,
   "id": "2e3258d1-6e3e-450b-90a7-9d9097b52c84",
   "metadata": {},
   "outputs": [
    {
     "data": {
      "text/html": [
       "<div>\n",
       "<style scoped>\n",
       "    .dataframe tbody tr th:only-of-type {\n",
       "        vertical-align: middle;\n",
       "    }\n",
       "\n",
       "    .dataframe tbody tr th {\n",
       "        vertical-align: top;\n",
       "    }\n",
       "\n",
       "    .dataframe thead th {\n",
       "        text-align: right;\n",
       "    }\n",
       "</style>\n",
       "<table border=\"1\" class=\"dataframe\">\n",
       "  <thead>\n",
       "    <tr style=\"text-align: right;\">\n",
       "      <th></th>\n",
       "      <th>listing_id</th>\n",
       "      <th>id</th>\n",
       "      <th>date</th>\n",
       "      <th>reviewer_id</th>\n",
       "      <th>reviewer_name</th>\n",
       "      <th>comments</th>\n",
       "    </tr>\n",
       "  </thead>\n",
       "  <tbody>\n",
       "    <tr>\n",
       "      <th>0</th>\n",
       "      <td>1178162</td>\n",
       "      <td>4724140</td>\n",
       "      <td>2013-05-21</td>\n",
       "      <td>4298113</td>\n",
       "      <td>Olivier</td>\n",
       "      <td>last away nice place room minute cool arrival ...</td>\n",
       "    </tr>\n",
       "  </tbody>\n",
       "</table>\n",
       "</div>"
      ],
      "text/plain": [
       "   listing_id       id        date  reviewer_id reviewer_name  \\\n",
       "0     1178162  4724140  2013-05-21      4298113       Olivier   \n",
       "\n",
       "                                            comments  \n",
       "0  last away nice place room minute cool arrival ...  "
      ]
     },
     "execution_count": 19,
     "metadata": {},
     "output_type": "execute_result"
    }
   ],
   "source": [
    "# Apply function to the \"comments\" column\n",
    "\n",
    "df_reviews1['comments'] = df_reviews1.apply(lambda row: text_processing(row), axis=1)\n",
    "df_reviews1.head(1)"
   ]
  },
  {
   "cell_type": "code",
   "execution_count": 20,
   "id": "9e3d017a",
   "metadata": {},
   "outputs": [],
   "source": [
    "from nltk.sentiment.vader import SentimentIntensityAnalyzer\n",
    "\n",
    "# Use vader for sentiment analysis\n",
    "vader = SentimentIntensityAnalyzer()"
   ]
  },
  {
   "cell_type": "code",
   "execution_count": 21,
   "id": "b284cb7a",
   "metadata": {},
   "outputs": [
    {
     "data": {
      "text/html": [
       "<div>\n",
       "<style scoped>\n",
       "    .dataframe tbody tr th:only-of-type {\n",
       "        vertical-align: middle;\n",
       "    }\n",
       "\n",
       "    .dataframe tbody tr th {\n",
       "        vertical-align: top;\n",
       "    }\n",
       "\n",
       "    .dataframe thead th {\n",
       "        text-align: right;\n",
       "    }\n",
       "</style>\n",
       "<table border=\"1\" class=\"dataframe\">\n",
       "  <thead>\n",
       "    <tr style=\"text-align: right;\">\n",
       "      <th></th>\n",
       "      <th>listing_id</th>\n",
       "      <th>id</th>\n",
       "      <th>date</th>\n",
       "      <th>reviewer_id</th>\n",
       "      <th>reviewer_name</th>\n",
       "      <th>comments</th>\n",
       "      <th>Scores</th>\n",
       "    </tr>\n",
       "  </thead>\n",
       "  <tbody>\n",
       "    <tr>\n",
       "      <th>0</th>\n",
       "      <td>1178162</td>\n",
       "      <td>4724140</td>\n",
       "      <td>2013-05-21</td>\n",
       "      <td>4298113</td>\n",
       "      <td>Olivier</td>\n",
       "      <td>last away nice place room minute cool arrival ...</td>\n",
       "      <td>{'neg': 0.0, 'neu': 0.476, 'pos': 0.524, 'comp...</td>\n",
       "    </tr>\n",
       "  </tbody>\n",
       "</table>\n",
       "</div>"
      ],
      "text/plain": [
       "   listing_id       id        date  reviewer_id reviewer_name  \\\n",
       "0     1178162  4724140  2013-05-21      4298113       Olivier   \n",
       "\n",
       "                                            comments  \\\n",
       "0  last away nice place room minute cool arrival ...   \n",
       "\n",
       "                                              Scores  \n",
       "0  {'neg': 0.0, 'neu': 0.476, 'pos': 0.524, 'comp...  "
      ]
     },
     "execution_count": 21,
     "metadata": {},
     "output_type": "execute_result"
    }
   ],
   "source": [
    "# Create a new column for the polarity_scores values retrieved by vader\n",
    "\n",
    "df_reviews1['Scores'] = df_reviews1['comments'].apply(lambda review: vader.polarity_scores(review))\n",
    "df_reviews1.head(1)"
   ]
  },
  {
   "cell_type": "code",
   "execution_count": 22,
   "id": "b48592de",
   "metadata": {},
   "outputs": [
    {
     "data": {
      "text/html": [
       "<div>\n",
       "<style scoped>\n",
       "    .dataframe tbody tr th:only-of-type {\n",
       "        vertical-align: middle;\n",
       "    }\n",
       "\n",
       "    .dataframe tbody tr th {\n",
       "        vertical-align: top;\n",
       "    }\n",
       "\n",
       "    .dataframe thead th {\n",
       "        text-align: right;\n",
       "    }\n",
       "</style>\n",
       "<table border=\"1\" class=\"dataframe\">\n",
       "  <thead>\n",
       "    <tr style=\"text-align: right;\">\n",
       "      <th></th>\n",
       "      <th>listing_id</th>\n",
       "      <th>id</th>\n",
       "      <th>date</th>\n",
       "      <th>reviewer_id</th>\n",
       "      <th>reviewer_name</th>\n",
       "      <th>comments</th>\n",
       "      <th>Scores</th>\n",
       "      <th>compound</th>\n",
       "    </tr>\n",
       "  </thead>\n",
       "  <tbody>\n",
       "    <tr>\n",
       "      <th>0</th>\n",
       "      <td>1178162</td>\n",
       "      <td>4724140</td>\n",
       "      <td>2013-05-21</td>\n",
       "      <td>4298113</td>\n",
       "      <td>Olivier</td>\n",
       "      <td>last away nice place room minute cool arrival ...</td>\n",
       "      <td>{'neg': 0.0, 'neu': 0.476, 'pos': 0.524, 'comp...</td>\n",
       "      <td>0.9387</td>\n",
       "    </tr>\n",
       "  </tbody>\n",
       "</table>\n",
       "</div>"
      ],
      "text/plain": [
       "   listing_id       id        date  reviewer_id reviewer_name  \\\n",
       "0     1178162  4724140  2013-05-21      4298113       Olivier   \n",
       "\n",
       "                                            comments  \\\n",
       "0  last away nice place room minute cool arrival ...   \n",
       "\n",
       "                                              Scores  compound  \n",
       "0  {'neg': 0.0, 'neu': 0.476, 'pos': 0.524, 'comp...    0.9387  "
      ]
     },
     "execution_count": 22,
     "metadata": {},
     "output_type": "execute_result"
    }
   ],
   "source": [
    "# Create a new column to separate the \"compound\" scores\n",
    "\n",
    "df_reviews1['compound'] = df_reviews1['Scores'].apply(lambda x: x['compound'])\n",
    "df_reviews1.head(1)"
   ]
  },
  {
   "cell_type": "code",
   "execution_count": 23,
   "id": "eb0aa226",
   "metadata": {},
   "outputs": [],
   "source": [
    "def polarity_score(compound):\n",
    "    \"\"\"Takes in the compound score, and returns the category [positive, neutral, negative] based on the \n",
    "        commonly used threshold to interpret the compound score\"\"\"\n",
    "    \n",
    "    if compound > 0.05: # \n",
    "        return \"positive\"\n",
    "    elif compound < -0.05:\n",
    "        return \"negative\"\n",
    "    elif compound >= -0.05 and compound <= 0.05:\n",
    "        return \"neutral\""
   ]
  },
  {
   "cell_type": "code",
   "execution_count": 25,
   "id": "1e31fc3f",
   "metadata": {},
   "outputs": [
    {
     "data": {
      "text/html": [
       "<div>\n",
       "<style scoped>\n",
       "    .dataframe tbody tr th:only-of-type {\n",
       "        vertical-align: middle;\n",
       "    }\n",
       "\n",
       "    .dataframe tbody tr th {\n",
       "        vertical-align: top;\n",
       "    }\n",
       "\n",
       "    .dataframe thead th {\n",
       "        text-align: right;\n",
       "    }\n",
       "</style>\n",
       "<table border=\"1\" class=\"dataframe\">\n",
       "  <thead>\n",
       "    <tr style=\"text-align: right;\">\n",
       "      <th></th>\n",
       "      <th>listing_id</th>\n",
       "      <th>id</th>\n",
       "      <th>date</th>\n",
       "      <th>reviewer_id</th>\n",
       "      <th>reviewer_name</th>\n",
       "      <th>comments</th>\n",
       "      <th>sentiment</th>\n",
       "    </tr>\n",
       "  </thead>\n",
       "  <tbody>\n",
       "    <tr>\n",
       "      <th>0</th>\n",
       "      <td>1178162</td>\n",
       "      <td>4724140</td>\n",
       "      <td>2013-05-21</td>\n",
       "      <td>4298113</td>\n",
       "      <td>Olivier</td>\n",
       "      <td>last away nice place room minute cool arrival ...</td>\n",
       "      <td>positive</td>\n",
       "    </tr>\n",
       "  </tbody>\n",
       "</table>\n",
       "</div>"
      ],
      "text/plain": [
       "   listing_id       id        date  reviewer_id reviewer_name  \\\n",
       "0     1178162  4724140  2013-05-21      4298113       Olivier   \n",
       "\n",
       "                                            comments sentiment  \n",
       "0  last away nice place room minute cool arrival ...  positive  "
      ]
     },
     "execution_count": 25,
     "metadata": {},
     "output_type": "execute_result"
    }
   ],
   "source": [
    "# Apply function to classify reviews\n",
    "\n",
    "df_reviews1['sentiment'] = df_reviews1['compound'].apply(lambda val: polarity_score(val))\n",
    "df_reviews1.drop(['Scores', 'compound'], axis=1, inplace=True) # drop unnecessary columns\n",
    "df_reviews1.head(1)"
   ]
  },
  {
   "cell_type": "code",
   "execution_count": 26,
   "id": "86ad8e69",
   "metadata": {},
   "outputs": [
    {
     "data": {
      "text/html": [
       "<div>\n",
       "<style scoped>\n",
       "    .dataframe tbody tr th:only-of-type {\n",
       "        vertical-align: middle;\n",
       "    }\n",
       "\n",
       "    .dataframe tbody tr th {\n",
       "        vertical-align: top;\n",
       "    }\n",
       "\n",
       "    .dataframe thead th {\n",
       "        text-align: right;\n",
       "    }\n",
       "</style>\n",
       "<table border=\"1\" class=\"dataframe\">\n",
       "  <thead>\n",
       "    <tr style=\"text-align: right;\">\n",
       "      <th>sentiment</th>\n",
       "      <th>negative</th>\n",
       "      <th>neutral</th>\n",
       "      <th>positive</th>\n",
       "    </tr>\n",
       "    <tr>\n",
       "      <th>listing_id</th>\n",
       "      <th></th>\n",
       "      <th></th>\n",
       "      <th></th>\n",
       "    </tr>\n",
       "  </thead>\n",
       "  <tbody>\n",
       "    <tr>\n",
       "      <th>3353</th>\n",
       "      <td>NaN</td>\n",
       "      <td>NaN</td>\n",
       "      <td>34.0</td>\n",
       "    </tr>\n",
       "  </tbody>\n",
       "</table>\n",
       "</div>"
      ],
      "text/plain": [
       "sentiment   negative  neutral  positive\n",
       "listing_id                             \n",
       "3353             NaN      NaN      34.0"
      ]
     },
     "execution_count": 26,
     "metadata": {},
     "output_type": "execute_result"
    }
   ],
   "source": [
    "# Pivot the data per \"listing_id\" to get the number of reviews per each category\n",
    "\n",
    "df_reviews2=df_reviews1.pivot_table(index= 'listing_id', columns='sentiment', aggfunc='count')['comments']\n",
    "df_reviews2.head(1)"
   ]
  },
  {
   "cell_type": "code",
   "execution_count": 27,
   "id": "6a83203d",
   "metadata": {},
   "outputs": [
    {
     "data": {
      "text/html": [
       "<div>\n",
       "<style scoped>\n",
       "    .dataframe tbody tr th:only-of-type {\n",
       "        vertical-align: middle;\n",
       "    }\n",
       "\n",
       "    .dataframe tbody tr th {\n",
       "        vertical-align: top;\n",
       "    }\n",
       "\n",
       "    .dataframe thead th {\n",
       "        text-align: right;\n",
       "    }\n",
       "</style>\n",
       "<table border=\"1\" class=\"dataframe\">\n",
       "  <thead>\n",
       "    <tr style=\"text-align: right;\">\n",
       "      <th>sentiment</th>\n",
       "      <th>negative</th>\n",
       "      <th>neutral</th>\n",
       "      <th>positive</th>\n",
       "      <th>total_reviews</th>\n",
       "    </tr>\n",
       "    <tr>\n",
       "      <th>listing_id</th>\n",
       "      <th></th>\n",
       "      <th></th>\n",
       "      <th></th>\n",
       "      <th></th>\n",
       "    </tr>\n",
       "  </thead>\n",
       "  <tbody>\n",
       "    <tr>\n",
       "      <th>66288</th>\n",
       "      <td>27.0</td>\n",
       "      <td>16.0</td>\n",
       "      <td>359.0</td>\n",
       "      <td>402.0</td>\n",
       "    </tr>\n",
       "    <tr>\n",
       "      <th>1497879</th>\n",
       "      <td>9.0</td>\n",
       "      <td>8.0</td>\n",
       "      <td>303.0</td>\n",
       "      <td>320.0</td>\n",
       "    </tr>\n",
       "  </tbody>\n",
       "</table>\n",
       "</div>"
      ],
      "text/plain": [
       "sentiment   negative  neutral  positive  total_reviews\n",
       "listing_id                                            \n",
       "66288           27.0     16.0     359.0          402.0\n",
       "1497879          9.0      8.0     303.0          320.0"
      ]
     },
     "execution_count": 27,
     "metadata": {},
     "output_type": "execute_result"
    }
   ],
   "source": [
    "# Create a new summary column to calculate the total # of reviews\n",
    "\n",
    "df_reviews2['total_reviews']=df_reviews2.sum(axis=1, skipna=True)\n",
    "\n",
    "# Sort descendingly to get the highest # of reviews at the top\n",
    "\n",
    "df_reviews2.sort_values(by='total_reviews', ascending=False,inplace=True)\n",
    "\n",
    "df_reviews2.head(2)"
   ]
  },
  {
   "cell_type": "code",
   "execution_count": 28,
   "id": "1b4bff19",
   "metadata": {},
   "outputs": [
    {
     "data": {
      "text/html": [
       "<div>\n",
       "<style scoped>\n",
       "    .dataframe tbody tr th:only-of-type {\n",
       "        vertical-align: middle;\n",
       "    }\n",
       "\n",
       "    .dataframe tbody tr th {\n",
       "        vertical-align: top;\n",
       "    }\n",
       "\n",
       "    .dataframe thead th {\n",
       "        text-align: right;\n",
       "    }\n",
       "</style>\n",
       "<table border=\"1\" class=\"dataframe\">\n",
       "  <thead>\n",
       "    <tr style=\"text-align: right;\">\n",
       "      <th>sentiment</th>\n",
       "      <th>total_reviews</th>\n",
       "      <th>neg%</th>\n",
       "      <th>net%</th>\n",
       "      <th>pos%</th>\n",
       "    </tr>\n",
       "    <tr>\n",
       "      <th>listing_id</th>\n",
       "      <th></th>\n",
       "      <th></th>\n",
       "      <th></th>\n",
       "      <th></th>\n",
       "    </tr>\n",
       "  </thead>\n",
       "  <tbody>\n",
       "    <tr>\n",
       "      <th>66288</th>\n",
       "      <td>402.0</td>\n",
       "      <td>6.72</td>\n",
       "      <td>3.98</td>\n",
       "      <td>89.30</td>\n",
       "    </tr>\n",
       "    <tr>\n",
       "      <th>1497879</th>\n",
       "      <td>320.0</td>\n",
       "      <td>2.81</td>\n",
       "      <td>2.50</td>\n",
       "      <td>94.69</td>\n",
       "    </tr>\n",
       "  </tbody>\n",
       "</table>\n",
       "</div>"
      ],
      "text/plain": [
       "sentiment   total_reviews  neg%  net%   pos%\n",
       "listing_id                                  \n",
       "66288               402.0  6.72  3.98  89.30\n",
       "1497879             320.0  2.81  2.50  94.69"
      ]
     },
     "execution_count": 28,
     "metadata": {},
     "output_type": "execute_result"
    }
   ],
   "source": [
    "# Create a new % columns to display the % of each category\n",
    "\n",
    "df_reviews2['neg%']= round(df_reviews2['negative']*100/df_reviews2['total_reviews'],2)\n",
    "df_reviews2['net%']= round(df_reviews2['neutral']*100/df_reviews2['total_reviews'],2)\n",
    "df_reviews2['pos%']= round(df_reviews2['positive']*100/df_reviews2['total_reviews'],2)\n",
    "df_reviews2.drop(['negative', 'neutral','positive'], axis=1, inplace=True) # drop unnecessary columns\n",
    "df_reviews2.head(2)"
   ]
  },
  {
   "cell_type": "markdown",
   "id": "ff9c817e",
   "metadata": {},
   "source": [
    "Now, we are ready to answer our first question. Among the listings with the highest # of reviews (top 10). Which one got the highest % of positive reviews? let's find the answer"
   ]
  },
  {
   "cell_type": "code",
   "execution_count": 29,
   "id": "7d2eb64e",
   "metadata": {},
   "outputs": [
    {
     "data": {
      "text/html": [
       "<div>\n",
       "<style scoped>\n",
       "    .dataframe tbody tr th:only-of-type {\n",
       "        vertical-align: middle;\n",
       "    }\n",
       "\n",
       "    .dataframe tbody tr th {\n",
       "        vertical-align: top;\n",
       "    }\n",
       "\n",
       "    .dataframe thead th {\n",
       "        text-align: right;\n",
       "    }\n",
       "</style>\n",
       "<table border=\"1\" class=\"dataframe\">\n",
       "  <thead>\n",
       "    <tr style=\"text-align: right;\">\n",
       "      <th>sentiment</th>\n",
       "      <th>total_reviews</th>\n",
       "      <th>neg%</th>\n",
       "      <th>net%</th>\n",
       "      <th>pos%</th>\n",
       "    </tr>\n",
       "    <tr>\n",
       "      <th>listing_id</th>\n",
       "      <th></th>\n",
       "      <th></th>\n",
       "      <th></th>\n",
       "      <th></th>\n",
       "    </tr>\n",
       "  </thead>\n",
       "  <tbody>\n",
       "    <tr>\n",
       "      <th>66288</th>\n",
       "      <td>402.0</td>\n",
       "      <td>6.72</td>\n",
       "      <td>3.98</td>\n",
       "      <td>89.30</td>\n",
       "    </tr>\n",
       "    <tr>\n",
       "      <th>1497879</th>\n",
       "      <td>320.0</td>\n",
       "      <td>2.81</td>\n",
       "      <td>2.50</td>\n",
       "      <td>94.69</td>\n",
       "    </tr>\n",
       "    <tr>\n",
       "      <th>414419</th>\n",
       "      <td>312.0</td>\n",
       "      <td>0.96</td>\n",
       "      <td>4.81</td>\n",
       "      <td>94.23</td>\n",
       "    </tr>\n",
       "    <tr>\n",
       "      <th>31796</th>\n",
       "      <td>290.0</td>\n",
       "      <td>2.76</td>\n",
       "      <td>7.59</td>\n",
       "      <td>89.66</td>\n",
       "    </tr>\n",
       "    <tr>\n",
       "      <th>815639</th>\n",
       "      <td>281.0</td>\n",
       "      <td>1.42</td>\n",
       "      <td>1.42</td>\n",
       "      <td>97.15</td>\n",
       "    </tr>\n",
       "    <tr>\n",
       "      <th>916123</th>\n",
       "      <td>281.0</td>\n",
       "      <td>2.14</td>\n",
       "      <td>1.78</td>\n",
       "      <td>96.09</td>\n",
       "    </tr>\n",
       "    <tr>\n",
       "      <th>1136972</th>\n",
       "      <td>280.0</td>\n",
       "      <td>1.79</td>\n",
       "      <td>2.50</td>\n",
       "      <td>95.71</td>\n",
       "    </tr>\n",
       "    <tr>\n",
       "      <th>20000</th>\n",
       "      <td>271.0</td>\n",
       "      <td>2.95</td>\n",
       "      <td>4.43</td>\n",
       "      <td>92.62</td>\n",
       "    </tr>\n",
       "    <tr>\n",
       "      <th>1695275</th>\n",
       "      <td>251.0</td>\n",
       "      <td>6.37</td>\n",
       "      <td>4.38</td>\n",
       "      <td>89.24</td>\n",
       "    </tr>\n",
       "    <tr>\n",
       "      <th>766700</th>\n",
       "      <td>244.0</td>\n",
       "      <td>2.46</td>\n",
       "      <td>2.46</td>\n",
       "      <td>95.08</td>\n",
       "    </tr>\n",
       "  </tbody>\n",
       "</table>\n",
       "</div>"
      ],
      "text/plain": [
       "sentiment   total_reviews  neg%  net%   pos%\n",
       "listing_id                                  \n",
       "66288               402.0  6.72  3.98  89.30\n",
       "1497879             320.0  2.81  2.50  94.69\n",
       "414419              312.0  0.96  4.81  94.23\n",
       "31796               290.0  2.76  7.59  89.66\n",
       "815639              281.0  1.42  1.42  97.15\n",
       "916123              281.0  2.14  1.78  96.09\n",
       "1136972             280.0  1.79  2.50  95.71\n",
       "20000               271.0  2.95  4.43  92.62\n",
       "1695275             251.0  6.37  4.38  89.24\n",
       "766700              244.0  2.46  2.46  95.08"
      ]
     },
     "execution_count": 29,
     "metadata": {},
     "output_type": "execute_result"
    }
   ],
   "source": [
    "# Top 10 frequent listings \n",
    "\n",
    "top10=df_reviews2.iloc[:10,:]\n",
    "top10"
   ]
  },
  {
   "cell_type": "code",
   "execution_count": 108,
   "id": "4880b91d",
   "metadata": {},
   "outputs": [
    {
     "name": "stdout",
     "output_type": "stream",
     "text": [
      "The owner of listing_id 815639 got the highest % of positive reviews 97.15% among the top 10 frequent reviews. Great Job!\n"
     ]
    }
   ],
   "source": [
    "# listing_id with the highest % positive reviews from the top 10 \n",
    "\n",
    "print(\"The owner of listing_id {} got the highest % of positive reviews {}% among the top 10 \"\n",
    "      \"frequent reviews. Great Job!\".format(top10['pos%'].idxmax(), top10['pos%'].max()))"
   ]
  },
  {
   "cell_type": "markdown",
   "id": "6f83a69d",
   "metadata": {},
   "source": [
    "The owner of this listing must be doing a great job to maintain such a big % of postive reviews\n",
    "\n",
    "Let's visualize reviews for the listings with highest # of reviews"
   ]
  },
  {
   "cell_type": "code",
   "execution_count": 38,
   "id": "f5284387",
   "metadata": {},
   "outputs": [
    {
     "data": {
      "image/png": "[encoded data removed]",
      "text/plain": [
       "<Figure size 640x480 with 1 Axes>"
      ]
     },
     "metadata": {},
     "output_type": "display_data"
    }
   ],
   "source": [
    "lst=[str(val) for val in top10.index]\n",
    "plt.bar(x=lst, height=top10['pos%'],color='g')\n",
    "plt.bar(x=lst, height=top10['net%'],bottom=top10['pos%'],color='b')\n",
    "plt.bar(x=lst, height=top10['neg%'],bottom=top10['pos%']+top10['net%'],color='r')\n",
    "plt.xlabel(\"Listing\")\n",
    "plt.ylabel(\"% Reviews\")\n",
    "plt.legend(['Positive','Neutral','Negative'], loc=10)\n",
    "plt.title(\"% Reviews per Listing\")\n",
    "plt.xticks(rotation=45);"
   ]
  },
  {
   "cell_type": "markdown",
   "id": "e3e6c7ed",
   "metadata": {},
   "source": [
    "Now, let's merge the reviews to our main dataset"
   ]
  },
  {
   "cell_type": "code",
   "execution_count": 39,
   "id": "88629f39",
   "metadata": {},
   "outputs": [
    {
     "data": {
      "text/html": [
       "<div>\n",
       "<style scoped>\n",
       "    .dataframe tbody tr th:only-of-type {\n",
       "        vertical-align: middle;\n",
       "    }\n",
       "\n",
       "    .dataframe tbody tr th {\n",
       "        vertical-align: top;\n",
       "    }\n",
       "\n",
       "    .dataframe thead th {\n",
       "        text-align: right;\n",
       "    }\n",
       "</style>\n",
       "<table border=\"1\" class=\"dataframe\">\n",
       "  <thead>\n",
       "    <tr style=\"text-align: right;\">\n",
       "      <th></th>\n",
       "      <th>id</th>\n",
       "      <th>listing_url</th>\n",
       "      <th>scrape_id</th>\n",
       "      <th>last_scraped</th>\n",
       "      <th>name</th>\n",
       "      <th>summary</th>\n",
       "      <th>space</th>\n",
       "      <th>description</th>\n",
       "      <th>experiences_offered</th>\n",
       "      <th>neighborhood_overview</th>\n",
       "      <th>...</th>\n",
       "      <th>calculated_host_listings_count</th>\n",
       "      <th>reviews_per_month</th>\n",
       "      <th>listing_id</th>\n",
       "      <th>date</th>\n",
       "      <th>available</th>\n",
       "      <th>price_cal</th>\n",
       "      <th>total_reviews</th>\n",
       "      <th>neg%</th>\n",
       "      <th>net%</th>\n",
       "      <th>pos%</th>\n",
       "    </tr>\n",
       "  </thead>\n",
       "  <tbody>\n",
       "    <tr>\n",
       "      <th>0</th>\n",
       "      <td>12147973</td>\n",
       "      <td>https://www.airbnb.com/rooms/12147973</td>\n",
       "      <td>20160906204935</td>\n",
       "      <td>2016-09-07</td>\n",
       "      <td>Sunny Bungalow in the City</td>\n",
       "      <td>Cozy, sunny, family home.  Master bedroom high...</td>\n",
       "      <td>The house has an open and cozy feel at the sam...</td>\n",
       "      <td>Cozy, sunny, family home.  Master bedroom high...</td>\n",
       "      <td>none</td>\n",
       "      <td>Roslindale is quiet, convenient and friendly. ...</td>\n",
       "      <td>...</td>\n",
       "      <td>1</td>\n",
       "      <td>NaN</td>\n",
       "      <td>NaN</td>\n",
       "      <td>NaN</td>\n",
       "      <td>NaN</td>\n",
       "      <td>NaN</td>\n",
       "      <td>NaN</td>\n",
       "      <td>NaN</td>\n",
       "      <td>NaN</td>\n",
       "      <td>NaN</td>\n",
       "    </tr>\n",
       "    <tr>\n",
       "      <th>1</th>\n",
       "      <td>3075044</td>\n",
       "      <td>https://www.airbnb.com/rooms/3075044</td>\n",
       "      <td>20160906204935</td>\n",
       "      <td>2016-09-07</td>\n",
       "      <td>Charming room in pet friendly apt</td>\n",
       "      <td>Charming and quiet room in a second floor 1910...</td>\n",
       "      <td>Small but cozy and quite room with a full size...</td>\n",
       "      <td>Charming and quiet room in a second floor 1910...</td>\n",
       "      <td>none</td>\n",
       "      <td>The room is in Roslindale, a diverse and prima...</td>\n",
       "      <td>...</td>\n",
       "      <td>1</td>\n",
       "      <td>1.3</td>\n",
       "      <td>NaN</td>\n",
       "      <td>NaN</td>\n",
       "      <td>NaN</td>\n",
       "      <td>NaN</td>\n",
       "      <td>36.0</td>\n",
       "      <td>2.78</td>\n",
       "      <td>2.78</td>\n",
       "      <td>94.44</td>\n",
       "    </tr>\n",
       "  </tbody>\n",
       "</table>\n",
       "<p>2 rows × 103 columns</p>\n",
       "</div>"
      ],
      "text/plain": [
       "         id                            listing_url       scrape_id  \\\n",
       "0  12147973  https://www.airbnb.com/rooms/12147973  20160906204935   \n",
       "1   3075044   https://www.airbnb.com/rooms/3075044  20160906204935   \n",
       "\n",
       "  last_scraped                               name  \\\n",
       "0   2016-09-07         Sunny Bungalow in the City   \n",
       "1   2016-09-07  Charming room in pet friendly apt   \n",
       "\n",
       "                                             summary  \\\n",
       "0  Cozy, sunny, family home.  Master bedroom high...   \n",
       "1  Charming and quiet room in a second floor 1910...   \n",
       "\n",
       "                                               space  \\\n",
       "0  The house has an open and cozy feel at the sam...   \n",
       "1  Small but cozy and quite room with a full size...   \n",
       "\n",
       "                                         description experiences_offered  \\\n",
       "0  Cozy, sunny, family home.  Master bedroom high...                none   \n",
       "1  Charming and quiet room in a second floor 1910...                none   \n",
       "\n",
       "                               neighborhood_overview  ...  \\\n",
       "0  Roslindale is quiet, convenient and friendly. ...  ...   \n",
       "1  The room is in Roslindale, a diverse and prima...  ...   \n",
       "\n",
       "  calculated_host_listings_count reviews_per_month listing_id date available  \\\n",
       "0                              1               NaN        NaN  NaN       NaN   \n",
       "1                              1               1.3        NaN  NaN       NaN   \n",
       "\n",
       "  price_cal total_reviews  neg%  net%   pos%  \n",
       "0       NaN           NaN   NaN   NaN    NaN  \n",
       "1       NaN          36.0  2.78  2.78  94.44  \n",
       "\n",
       "[2 rows x 103 columns]"
      ]
     },
     "execution_count": 39,
     "metadata": {},
     "output_type": "execute_result"
    }
   ],
   "source": [
    "df_main2= df_main.join(df_reviews2, how='left', on= 'id', rsuffix='_rev')\n",
    "df_main2.head(2)"
   ]
  },
  {
   "cell_type": "code",
   "execution_count": 40,
   "id": "2c8deceb",
   "metadata": {
    "scrolled": false
   },
   "outputs": [
    {
     "data": {
      "text/plain": [
       "summary                          143\n",
       "space                           1057\n",
       "neighborhood_overview           1415\n",
       "notes                           1975\n",
       "transit                         1290\n",
       "access                          1489\n",
       "interaction                     1554\n",
       "house_rules                     1192\n",
       "thumbnail_url                    599\n",
       "medium_url                       599\n",
       "xl_picture_url                   599\n",
       "host_location                     11\n",
       "host_about                      1309\n",
       "host_response_time               471\n",
       "host_response_rate               471\n",
       "host_acceptance_rate             471\n",
       "host_neighbourhood               339\n",
       "neighbourhood                    543\n",
       "neighbourhood_group_cleansed    3585\n",
       "city                               2\n",
       "zipcode                           38\n",
       "market                            14\n",
       "property_type                      3\n",
       "bathrooms                         14\n",
       "bedrooms                          10\n",
       "beds                               9\n",
       "square_feet                     3529\n",
       "weekly_price                    2693\n",
       "monthly_price                   2697\n",
       "security_deposit                2243\n",
       "cleaning_fee                    1107\n",
       "has_availability                3585\n",
       "first_review                     756\n",
       "last_review                      756\n",
       "review_scores_rating             813\n",
       "review_scores_accuracy           823\n",
       "review_scores_cleanliness        818\n",
       "review_scores_checkin            820\n",
       "review_scores_communication      818\n",
       "review_scores_location           822\n",
       "review_scores_value              821\n",
       "license                         3585\n",
       "jurisdiction_names              3585\n",
       "reviews_per_month                756\n",
       "listing_id                      3284\n",
       "date                            3284\n",
       "available                       3284\n",
       "price_cal                       3441\n",
       "total_reviews                    756\n",
       "neg%                            2821\n",
       "net%                            2272\n",
       "pos%                             840\n",
       "dtype: int64"
      ]
     },
     "execution_count": 40,
     "metadata": {},
     "output_type": "execute_result"
    }
   ],
   "source": [
    "# Take a look at our columns with missing data\n",
    "\n",
    "nulls=df_main2.isna().sum()\n",
    "nulls[nulls!=0]"
   ]
  },
  {
   "cell_type": "markdown",
   "id": "a0ad67a1",
   "metadata": {},
   "source": [
    "We have alot of missing data. I'm only interested in specific columns that could help me answer my questions. So, I'm going to handle these columns only.\n",
    "\n",
    "First, let's check the unique cities in our dataset to ensure they all belong to Boston city"
   ]
  },
  {
   "cell_type": "code",
   "execution_count": 45,
   "id": "755366ef",
   "metadata": {},
   "outputs": [
    {
     "data": {
      "text/plain": [
       "city\n",
       "Boston                       3381\n",
       "Roxbury Crossing               24\n",
       "Somerville                     19\n",
       "Jamaica Plain                  18\n",
       "Brookline                      18\n",
       "Cambridge                      16\n",
       "Dorchester                     15\n",
       "Brighton                       15\n",
       "Charlestown                    15\n",
       "Allston                        12\n",
       "Roslindale                      6\n",
       "West Roxbury                    5\n",
       "ROXBURY CROSSING                4\n",
       "Mattapan                        3\n",
       "East Boston                     3\n",
       "ALLSTON                         2\n",
       "South Boston                    2\n",
       "Jamaica Plain, Boston           2\n",
       "Hyde Park                       2\n",
       "Jamaica Plain                   2\n",
       "Boston, Massachusetts, US       2\n",
       "Boston                          1\n",
       "Roslindale, Boston              1\n",
       "dorchester, boston              1\n",
       "Milton                          1\n",
       "Jamaica Plain (Boston)          1\n",
       "Newton                          1\n",
       "波士顿                             1\n",
       "Jamaica Plain, MA               1\n",
       "Watertown                       1\n",
       "Boston (Jamaica Plain)          1\n",
       "Boston (Charlestown)            1\n",
       "Jamaica plain                   1\n",
       "east Boston                     1\n",
       "Mission Hill, Boston            1\n",
       "boston                          1\n",
       "South End, Boston               1\n",
       "Brighton                        1\n",
       "Name: count, dtype: int64"
      ]
     },
     "execution_count": 45,
     "metadata": {},
     "output_type": "execute_result"
    }
   ],
   "source": [
    "df_main2['city'].value_counts()"
   ]
  },
  {
   "cell_type": "markdown",
   "id": "2095687a",
   "metadata": {},
   "source": [
    "I can see other cities' names. By googling, I found that some names from the dataset are neighbourhoods located in Boston. Let's see an example below."
   ]
  },
  {
   "cell_type": "code",
   "execution_count": 41,
   "id": "11ee5f34",
   "metadata": {},
   "outputs": [
    {
     "data": {
      "text/html": [
       "<div>\n",
       "<style scoped>\n",
       "    .dataframe tbody tr th:only-of-type {\n",
       "        vertical-align: middle;\n",
       "    }\n",
       "\n",
       "    .dataframe tbody tr th {\n",
       "        vertical-align: top;\n",
       "    }\n",
       "\n",
       "    .dataframe thead th {\n",
       "        text-align: right;\n",
       "    }\n",
       "</style>\n",
       "<table border=\"1\" class=\"dataframe\">\n",
       "  <thead>\n",
       "    <tr style=\"text-align: right;\">\n",
       "      <th></th>\n",
       "      <th>2762</th>\n",
       "    </tr>\n",
       "  </thead>\n",
       "  <tbody>\n",
       "    <tr>\n",
       "      <th>id</th>\n",
       "      <td>3839678</td>\n",
       "    </tr>\n",
       "    <tr>\n",
       "      <th>listing_url</th>\n",
       "      <td>https://www.airbnb.com/rooms/3839678</td>\n",
       "    </tr>\n",
       "    <tr>\n",
       "      <th>scrape_id</th>\n",
       "      <td>20160906204935</td>\n",
       "    </tr>\n",
       "    <tr>\n",
       "      <th>last_scraped</th>\n",
       "      <td>2016-09-07</td>\n",
       "    </tr>\n",
       "    <tr>\n",
       "      <th>name</th>\n",
       "      <td>Bedroom close to Boston</td>\n",
       "    </tr>\n",
       "    <tr>\n",
       "      <th>summary</th>\n",
       "      <td>We live on the Milton side of the Neponset Riv...</td>\n",
       "    </tr>\n",
       "    <tr>\n",
       "      <th>space</th>\n",
       "      <td>This was the bedroom of our son, now in his la...</td>\n",
       "    </tr>\n",
       "    <tr>\n",
       "      <th>description</th>\n",
       "      <td>We live on the Milton side of the Neponset Riv...</td>\n",
       "    </tr>\n",
       "    <tr>\n",
       "      <th>experiences_offered</th>\n",
       "      <td>none</td>\n",
       "    </tr>\n",
       "    <tr>\n",
       "      <th>neighborhood_overview</th>\n",
       "      <td>Because Milton is a great town to raise kids, ...</td>\n",
       "    </tr>\n",
       "    <tr>\n",
       "      <th>notes</th>\n",
       "      <td>Without two days notice, we are likely to decl...</td>\n",
       "    </tr>\n",
       "    <tr>\n",
       "      <th>transit</th>\n",
       "      <td>During working hours, we have an excellent con...</td>\n",
       "    </tr>\n",
       "    <tr>\n",
       "      <th>access</th>\n",
       "      <td>Our cat will probably scratch at your door to ...</td>\n",
       "    </tr>\n",
       "    <tr>\n",
       "      <th>interaction</th>\n",
       "      <td>We will provide cereal, coffee or tea for brea...</td>\n",
       "    </tr>\n",
       "    <tr>\n",
       "      <th>house_rules</th>\n",
       "      <td>Quiet hours are 10 PM to 6 AM.  No smoking, ev...</td>\n",
       "    </tr>\n",
       "    <tr>\n",
       "      <th>thumbnail_url</th>\n",
       "      <td>https://a0.muscache.com/im/pictures/48308623/3...</td>\n",
       "    </tr>\n",
       "    <tr>\n",
       "      <th>medium_url</th>\n",
       "      <td>https://a0.muscache.com/im/pictures/48308623/3...</td>\n",
       "    </tr>\n",
       "    <tr>\n",
       "      <th>picture_url</th>\n",
       "      <td>https://a0.muscache.com/im/pictures/48308623/3...</td>\n",
       "    </tr>\n",
       "    <tr>\n",
       "      <th>xl_picture_url</th>\n",
       "      <td>https://a0.muscache.com/im/pictures/48308623/3...</td>\n",
       "    </tr>\n",
       "    <tr>\n",
       "      <th>host_id</th>\n",
       "      <td>5776160</td>\n",
       "    </tr>\n",
       "    <tr>\n",
       "      <th>host_url</th>\n",
       "      <td>https://www.airbnb.com/users/show/5776160</td>\n",
       "    </tr>\n",
       "    <tr>\n",
       "      <th>host_name</th>\n",
       "      <td>Walter</td>\n",
       "    </tr>\n",
       "    <tr>\n",
       "      <th>host_since</th>\n",
       "      <td>2013-04-04</td>\n",
       "    </tr>\n",
       "    <tr>\n",
       "      <th>host_location</th>\n",
       "      <td>Milton, Massachusetts, United States</td>\n",
       "    </tr>\n",
       "    <tr>\n",
       "      <th>host_about</th>\n",
       "      <td>In my early seventies, I am enjoying life.  Th...</td>\n",
       "    </tr>\n",
       "    <tr>\n",
       "      <th>host_response_time</th>\n",
       "      <td>within an hour</td>\n",
       "    </tr>\n",
       "    <tr>\n",
       "      <th>host_response_rate</th>\n",
       "      <td>100%</td>\n",
       "    </tr>\n",
       "    <tr>\n",
       "      <th>host_acceptance_rate</th>\n",
       "      <td>100%</td>\n",
       "    </tr>\n",
       "    <tr>\n",
       "      <th>host_is_superhost</th>\n",
       "      <td>f</td>\n",
       "    </tr>\n",
       "    <tr>\n",
       "      <th>host_thumbnail_url</th>\n",
       "      <td>https://a2.muscache.com/im/pictures/724f94ae-6...</td>\n",
       "    </tr>\n",
       "    <tr>\n",
       "      <th>host_picture_url</th>\n",
       "      <td>https://a2.muscache.com/im/pictures/724f94ae-6...</td>\n",
       "    </tr>\n",
       "    <tr>\n",
       "      <th>host_neighbourhood</th>\n",
       "      <td>NaN</td>\n",
       "    </tr>\n",
       "    <tr>\n",
       "      <th>host_listings_count</th>\n",
       "      <td>1</td>\n",
       "    </tr>\n",
       "    <tr>\n",
       "      <th>host_total_listings_count</th>\n",
       "      <td>1</td>\n",
       "    </tr>\n",
       "    <tr>\n",
       "      <th>host_verifications</th>\n",
       "      <td>['email', 'phone', 'reviews', 'kba']</td>\n",
       "    </tr>\n",
       "    <tr>\n",
       "      <th>host_has_profile_pic</th>\n",
       "      <td>t</td>\n",
       "    </tr>\n",
       "    <tr>\n",
       "      <th>host_identity_verified</th>\n",
       "      <td>t</td>\n",
       "    </tr>\n",
       "    <tr>\n",
       "      <th>street</th>\n",
       "      <td>Capen Street, Milton, MA 02186, United States</td>\n",
       "    </tr>\n",
       "    <tr>\n",
       "      <th>neighbourhood</th>\n",
       "      <td>NaN</td>\n",
       "    </tr>\n",
       "    <tr>\n",
       "      <th>neighbourhood_cleansed</th>\n",
       "      <td>Mattapan</td>\n",
       "    </tr>\n",
       "    <tr>\n",
       "      <th>neighbourhood_group_cleansed</th>\n",
       "      <td>NaN</td>\n",
       "    </tr>\n",
       "    <tr>\n",
       "      <th>city</th>\n",
       "      <td>Milton</td>\n",
       "    </tr>\n",
       "    <tr>\n",
       "      <th>state</th>\n",
       "      <td>MA</td>\n",
       "    </tr>\n",
       "    <tr>\n",
       "      <th>zipcode</th>\n",
       "      <td>02186</td>\n",
       "    </tr>\n",
       "    <tr>\n",
       "      <th>market</th>\n",
       "      <td>Boston</td>\n",
       "    </tr>\n",
       "    <tr>\n",
       "      <th>smart_location</th>\n",
       "      <td>Milton, MA</td>\n",
       "    </tr>\n",
       "    <tr>\n",
       "      <th>country_code</th>\n",
       "      <td>US</td>\n",
       "    </tr>\n",
       "    <tr>\n",
       "      <th>country</th>\n",
       "      <td>United States</td>\n",
       "    </tr>\n",
       "    <tr>\n",
       "      <th>latitude</th>\n",
       "      <td>42.270096</td>\n",
       "    </tr>\n",
       "    <tr>\n",
       "      <th>longitude</th>\n",
       "      <td>-71.088307</td>\n",
       "    </tr>\n",
       "    <tr>\n",
       "      <th>is_location_exact</th>\n",
       "      <td>t</td>\n",
       "    </tr>\n",
       "    <tr>\n",
       "      <th>property_type</th>\n",
       "      <td>House</td>\n",
       "    </tr>\n",
       "    <tr>\n",
       "      <th>room_type</th>\n",
       "      <td>Private room</td>\n",
       "    </tr>\n",
       "    <tr>\n",
       "      <th>accommodates</th>\n",
       "      <td>1</td>\n",
       "    </tr>\n",
       "    <tr>\n",
       "      <th>bathrooms</th>\n",
       "      <td>1.0</td>\n",
       "    </tr>\n",
       "    <tr>\n",
       "      <th>bedrooms</th>\n",
       "      <td>1.0</td>\n",
       "    </tr>\n",
       "    <tr>\n",
       "      <th>beds</th>\n",
       "      <td>1.0</td>\n",
       "    </tr>\n",
       "    <tr>\n",
       "      <th>bed_type</th>\n",
       "      <td>Real Bed</td>\n",
       "    </tr>\n",
       "    <tr>\n",
       "      <th>amenities</th>\n",
       "      <td>{\"Wireless Internet\",Kitchen,\"Free Parking on ...</td>\n",
       "    </tr>\n",
       "    <tr>\n",
       "      <th>square_feet</th>\n",
       "      <td>NaN</td>\n",
       "    </tr>\n",
       "  </tbody>\n",
       "</table>\n",
       "</div>"
      ],
      "text/plain": [
       "                                                                           2762\n",
       "id                                                                      3839678\n",
       "listing_url                                https://www.airbnb.com/rooms/3839678\n",
       "scrape_id                                                        20160906204935\n",
       "last_scraped                                                         2016-09-07\n",
       "name                                                    Bedroom close to Boston\n",
       "summary                       We live on the Milton side of the Neponset Riv...\n",
       "space                         This was the bedroom of our son, now in his la...\n",
       "description                   We live on the Milton side of the Neponset Riv...\n",
       "experiences_offered                                                        none\n",
       "neighborhood_overview         Because Milton is a great town to raise kids, ...\n",
       "notes                         Without two days notice, we are likely to decl...\n",
       "transit                       During working hours, we have an excellent con...\n",
       "access                        Our cat will probably scratch at your door to ...\n",
       "interaction                   We will provide cereal, coffee or tea for brea...\n",
       "house_rules                   Quiet hours are 10 PM to 6 AM.  No smoking, ev...\n",
       "thumbnail_url                 https://a0.muscache.com/im/pictures/48308623/3...\n",
       "medium_url                    https://a0.muscache.com/im/pictures/48308623/3...\n",
       "picture_url                   https://a0.muscache.com/im/pictures/48308623/3...\n",
       "xl_picture_url                https://a0.muscache.com/im/pictures/48308623/3...\n",
       "host_id                                                                 5776160\n",
       "host_url                              https://www.airbnb.com/users/show/5776160\n",
       "host_name                                                                Walter\n",
       "host_since                                                           2013-04-04\n",
       "host_location                              Milton, Massachusetts, United States\n",
       "host_about                    In my early seventies, I am enjoying life.  Th...\n",
       "host_response_time                                               within an hour\n",
       "host_response_rate                                                         100%\n",
       "host_acceptance_rate                                                       100%\n",
       "host_is_superhost                                                             f\n",
       "host_thumbnail_url            https://a2.muscache.com/im/pictures/724f94ae-6...\n",
       "host_picture_url              https://a2.muscache.com/im/pictures/724f94ae-6...\n",
       "host_neighbourhood                                                          NaN\n",
       "host_listings_count                                                           1\n",
       "host_total_listings_count                                                     1\n",
       "host_verifications                         ['email', 'phone', 'reviews', 'kba']\n",
       "host_has_profile_pic                                                          t\n",
       "host_identity_verified                                                        t\n",
       "street                            Capen Street, Milton, MA 02186, United States\n",
       "neighbourhood                                                               NaN\n",
       "neighbourhood_cleansed                                                 Mattapan\n",
       "neighbourhood_group_cleansed                                                NaN\n",
       "city                                                                     Milton\n",
       "state                                                                        MA\n",
       "zipcode                                                                   02186\n",
       "market                                                                   Boston\n",
       "smart_location                                                       Milton, MA\n",
       "country_code                                                                 US\n",
       "country                                                           United States\n",
       "latitude                                                              42.270096\n",
       "longitude                                                            -71.088307\n",
       "is_location_exact                                                             t\n",
       "property_type                                                             House\n",
       "room_type                                                          Private room\n",
       "accommodates                                                                  1\n",
       "bathrooms                                                                   1.0\n",
       "bedrooms                                                                    1.0\n",
       "beds                                                                        1.0\n",
       "bed_type                                                               Real Bed\n",
       "amenities                     {\"Wireless Internet\",Kitchen,\"Free Parking on ...\n",
       "square_feet                                                                 NaN"
      ]
     },
     "execution_count": 41,
     "metadata": {},
     "output_type": "execute_result"
    }
   ],
   "source": [
    "df_main2[df_main2['city'].str.contains(r'\\bmilton\\b', case=False, na=False)].T[0:60]"
   ]
  },
  {
   "cell_type": "markdown",
   "id": "7bdc2f8a",
   "metadata": {},
   "source": [
    "In the above example, We can see that the name \"Boston\" is mentioned in the \"Market\" column instead of the \"City\" column. To ensure that we are selecting the correct data, I'm going to select only the rows with the name \"Boston\" in any of the columns."
   ]
  },
  {
   "cell_type": "code",
   "execution_count": 42,
   "id": "35b306e2",
   "metadata": {},
   "outputs": [
    {
     "data": {
      "text/html": [
       "<div>\n",
       "<style scoped>\n",
       "    .dataframe tbody tr th:only-of-type {\n",
       "        vertical-align: middle;\n",
       "    }\n",
       "\n",
       "    .dataframe tbody tr th {\n",
       "        vertical-align: top;\n",
       "    }\n",
       "\n",
       "    .dataframe thead th {\n",
       "        text-align: right;\n",
       "    }\n",
       "</style>\n",
       "<table border=\"1\" class=\"dataframe\">\n",
       "  <thead>\n",
       "    <tr style=\"text-align: right;\">\n",
       "      <th></th>\n",
       "      <th>id</th>\n",
       "      <th>listing_url</th>\n",
       "      <th>scrape_id</th>\n",
       "      <th>last_scraped</th>\n",
       "      <th>name</th>\n",
       "      <th>summary</th>\n",
       "      <th>space</th>\n",
       "      <th>description</th>\n",
       "      <th>experiences_offered</th>\n",
       "      <th>neighborhood_overview</th>\n",
       "      <th>...</th>\n",
       "      <th>calculated_host_listings_count</th>\n",
       "      <th>reviews_per_month</th>\n",
       "      <th>listing_id</th>\n",
       "      <th>date</th>\n",
       "      <th>available</th>\n",
       "      <th>price_cal</th>\n",
       "      <th>total_reviews</th>\n",
       "      <th>neg%</th>\n",
       "      <th>net%</th>\n",
       "      <th>pos%</th>\n",
       "    </tr>\n",
       "  </thead>\n",
       "  <tbody>\n",
       "    <tr>\n",
       "      <th>0</th>\n",
       "      <td>12147973</td>\n",
       "      <td>https://www.airbnb.com/rooms/12147973</td>\n",
       "      <td>20160906204935</td>\n",
       "      <td>2016-09-07</td>\n",
       "      <td>Sunny Bungalow in the City</td>\n",
       "      <td>Cozy, sunny, family home.  Master bedroom high...</td>\n",
       "      <td>The house has an open and cozy feel at the sam...</td>\n",
       "      <td>Cozy, sunny, family home.  Master bedroom high...</td>\n",
       "      <td>none</td>\n",
       "      <td>Roslindale is quiet, convenient and friendly. ...</td>\n",
       "      <td>...</td>\n",
       "      <td>1</td>\n",
       "      <td>NaN</td>\n",
       "      <td>NaN</td>\n",
       "      <td>NaN</td>\n",
       "      <td>NaN</td>\n",
       "      <td>NaN</td>\n",
       "      <td>NaN</td>\n",
       "      <td>NaN</td>\n",
       "      <td>NaN</td>\n",
       "      <td>NaN</td>\n",
       "    </tr>\n",
       "  </tbody>\n",
       "</table>\n",
       "<p>1 rows × 103 columns</p>\n",
       "</div>"
      ],
      "text/plain": [
       "         id                            listing_url       scrape_id  \\\n",
       "0  12147973  https://www.airbnb.com/rooms/12147973  20160906204935   \n",
       "\n",
       "  last_scraped                        name  \\\n",
       "0   2016-09-07  Sunny Bungalow in the City   \n",
       "\n",
       "                                             summary  \\\n",
       "0  Cozy, sunny, family home.  Master bedroom high...   \n",
       "\n",
       "                                               space  \\\n",
       "0  The house has an open and cozy feel at the sam...   \n",
       "\n",
       "                                         description experiences_offered  \\\n",
       "0  Cozy, sunny, family home.  Master bedroom high...                none   \n",
       "\n",
       "                               neighborhood_overview  ...  \\\n",
       "0  Roslindale is quiet, convenient and friendly. ...  ...   \n",
       "\n",
       "  calculated_host_listings_count reviews_per_month listing_id date available  \\\n",
       "0                              1               NaN        NaN  NaN       NaN   \n",
       "\n",
       "  price_cal total_reviews neg% net%  pos%  \n",
       "0       NaN           NaN  NaN  NaN   NaN  \n",
       "\n",
       "[1 rows x 103 columns]"
      ]
     },
     "execution_count": 42,
     "metadata": {},
     "output_type": "execute_result"
    }
   ],
   "source": [
    "df_main3=df_main2[df_main2.applymap(lambda x: isinstance(x, str) and 'boston' in x.lower()).any(axis=1)]\n",
    "\n",
    "df_main3.head(1)"
   ]
  },
  {
   "cell_type": "code",
   "execution_count": 43,
   "id": "12e55bfd",
   "metadata": {},
   "outputs": [
    {
     "data": {
      "text/plain": [
       "3585"
      ]
     },
     "execution_count": 43,
     "metadata": {},
     "output_type": "execute_result"
    }
   ],
   "source": [
    "len(df_main3)"
   ]
  },
  {
   "cell_type": "markdown",
   "id": "e3731c5c",
   "metadata": {},
   "source": [
    "Now I'm interested to know what are the top 3 most frequent neighbourhoods or zipcodes in Boston? (zipcodes with highest number of listings). Let's explore the neighbourhood column"
   ]
  },
  {
   "cell_type": "code",
   "execution_count": 45,
   "id": "80983ece",
   "metadata": {},
   "outputs": [
    {
     "data": {
      "text/plain": [
       "neighbourhood\n",
       "Allston-Brighton      364\n",
       "Jamaica Plain         314\n",
       "South End             298\n",
       "Back Bay              291\n",
       "Fenway/Kenmore        249\n",
       "South Boston          216\n",
       "Dorchester            195\n",
       "Beacon Hill           174\n",
       "North End             125\n",
       "East Boston           117\n",
       "Roxbury               116\n",
       "Mission Hill          103\n",
       "Charlestown            79\n",
       "Chinatown              78\n",
       "West End               68\n",
       "Roslindale             50\n",
       "West Roxbury           35\n",
       "Theater District       33\n",
       "Downtown Crossing      26\n",
       "Hyde Park              25\n",
       "Mattapan               20\n",
       "Financial District     13\n",
       "Somerville             13\n",
       "Downtown                8\n",
       "Leather District        8\n",
       "Brookline               8\n",
       "Cambridge               7\n",
       "Chestnut Hill           4\n",
       "Government Center       3\n",
       "Harvard Square          2\n",
       "Name: count, dtype: int64"
      ]
     },
     "execution_count": 45,
     "metadata": {},
     "output_type": "execute_result"
    }
   ],
   "source": [
    "neighbourhood=df_main3['neighbourhood'].value_counts()\n",
    "neighbourhood"
   ]
  },
  {
   "cell_type": "markdown",
   "id": "c5666d24",
   "metadata": {},
   "source": [
    "Let's visualize this data"
   ]
  },
  {
   "cell_type": "code",
   "execution_count": 46,
   "id": "d9e6ad4f",
   "metadata": {},
   "outputs": [
    {
     "data": {
      "image/png": "[encoded data removed]",
      "text/plain": [
       "<Figure size 640x480 with 1 Axes>"
      ]
     },
     "metadata": {},
     "output_type": "display_data"
    }
   ],
   "source": [
    "neighbourhood.plot(kind='bar', color='skyblue', edgecolor='black')\n",
    "# Adding titles and labels\n",
    "plt.title('Boston Neighbourhoods Listings Count')\n",
    "plt.xlabel('Neighbourhood')\n",
    "plt.ylabel('# Listings');"
   ]
  },
  {
   "cell_type": "code",
   "execution_count": 47,
   "id": "8fd554b1",
   "metadata": {},
   "outputs": [
    {
     "data": {
      "text/plain": [
       "0.1514644351464435"
      ]
     },
     "execution_count": 47,
     "metadata": {},
     "output_type": "execute_result"
    }
   ],
   "source": [
    "# Check % of missing values in neighbourhood\n",
    "df_main3['neighbourhood'].isna().sum()/len(df_main3) # check missing values %"
   ]
  },
  {
   "cell_type": "markdown",
   "id": "9bd74233",
   "metadata": {},
   "source": [
    "There are 15% of the neighbourhood data missing. Let's see if we can rely on the smart_location column"
   ]
  },
  {
   "cell_type": "code",
   "execution_count": 48,
   "id": "4f50f181",
   "metadata": {},
   "outputs": [
    {
     "data": {
      "text/plain": [
       "array(['Boston, MA', 'Roslindale, MA', 'Roslindale, Boston, MA',\n",
       "       'Jamaica Plain, MA', 'Brookline, MA', 'Jamaica Plain, Boston, MA',\n",
       "       'Jamaica Plain (Boston), MA', 'Roxbury Crossing, MA',\n",
       "       'Jamaica Plain , MA', 'Jamaica Plain, MA, MA',\n",
       "       'Boston (Jamaica Plain), MA', 'Jamaica plain , MA',\n",
       "       'ROXBURY CROSSING, MA', 'Mission Hill, Boston, MA', 'boston, MA',\n",
       "       '波士顿, MA', 'Boston, Massachusetts, US, MA',\n",
       "       'South End, Boston, MA', 'Cambridge, MA', 'East Boston, MA',\n",
       "       'east Boston , MA', 'Charlestown, MA', 'Boston (Charlestown), MA',\n",
       "       'Somerville, MA', 'Watertown, MA', 'Brighton, MA', 'Brighton , MA',\n",
       "       'Boston , MA', 'MA', 'West Roxbury, MA', 'Newton, MA',\n",
       "       'Hyde Park, MA', 'Mattapan, MA', 'Milton, MA', 'Dorchester, MA',\n",
       "       'dorchester, boston , MA', 'South Boston, MA', 'Allston, MA',\n",
       "       'ALLSTON, MA'], dtype=object)"
      ]
     },
     "execution_count": 48,
     "metadata": {},
     "output_type": "execute_result"
    }
   ],
   "source": [
    "df_main3['smart_location'].unique()"
   ]
  },
  {
   "cell_type": "markdown",
   "id": "3d991ee4",
   "metadata": {},
   "source": [
    "I can see values like 'Brighton, MA' and 'Brighton , MA'. The only difference is that there is a space after the name Brighton in the second entry. It seems that values are entered by hand, not using a dropdown menu, so they are not unified. I believe we can't rely on this column. Let's see the zipcode data."
   ]
  },
  {
   "cell_type": "code",
   "execution_count": 49,
   "id": "e295f508",
   "metadata": {},
   "outputs": [
    {
     "data": {
      "text/plain": [
       "array(['02131', nan, '02130', '02119', '02120', '02115', '02215', '02116',\n",
       "       '02111', '02109', '02113', '02110', '02114', '02108', '02121',\n",
       "       '02118', '02125', '02124', '02210', '02218', '02142', '02128',\n",
       "       '02129', '02145', '02126', '02108 02111', '02472', '02122',\n",
       "       '02446', '02135', '02134', '02445', '02132', '02467', '02136',\n",
       "       '02186', '02169', '02127', '02134-1704', '02163', '02138', '02139',\n",
       "       '02141', '02143'], dtype=object)"
      ]
     },
     "execution_count": 49,
     "metadata": {},
     "output_type": "execute_result"
    }
   ],
   "source": [
    "zc=df_main3['zipcode'].unique()\n",
    "zc"
   ]
  },
  {
   "cell_type": "markdown",
   "id": "e9716335",
   "metadata": {},
   "source": [
    "The data seems consistent. Let's ensure they all have the same length."
   ]
  },
  {
   "cell_type": "code",
   "execution_count": 50,
   "id": "8c748bd9",
   "metadata": {},
   "outputs": [
    {
     "name": "stdout",
     "output_type": "stream",
     "text": [
      "[5, 3, 5, 5, 5, 5, 5, 5, 5, 5, 5, 5, 5, 5, 5, 5, 5, 5, 5, 5, 5, 5, 5, 5, 5, 11, 5, 5, 5, 5, 5, 5, 5, 5, 5, 5, 5, 5, 10, 5, 5, 5, 5, 5]\n"
     ]
    }
   ],
   "source": [
    "print([len(str(z)) for z in zc])"
   ]
  },
  {
   "cell_type": "markdown",
   "id": "f45d1f68",
   "metadata": {},
   "source": [
    "All lengths are 5 except for 3 values: the nan, and 2 values that seem to have the zip code in the first part of the entry. Let's clean this column and use it to answer our question. But let's check the nan value count first"
   ]
  },
  {
   "cell_type": "code",
   "execution_count": 51,
   "id": "f8f5910e",
   "metadata": {},
   "outputs": [
    {
     "data": {
      "text/plain": [
       "38"
      ]
     },
     "execution_count": 51,
     "metadata": {},
     "output_type": "execute_result"
    }
   ],
   "source": [
    "df_main3['zipcode'].isna().sum()"
   ]
  },
  {
   "cell_type": "markdown",
   "id": "10ea75c3",
   "metadata": {},
   "source": [
    "That's a small # of missing values. Let's rely on this column to answer our question"
   ]
  },
  {
   "cell_type": "code",
   "execution_count": 57,
   "id": "c6248bf4",
   "metadata": {},
   "outputs": [
    {
     "data": {
      "text/plain": [
       "[nan, '02108 02111', '02134-1704']"
      ]
     },
     "execution_count": 57,
     "metadata": {},
     "output_type": "execute_result"
    }
   ],
   "source": [
    "# Handle faulty values\n",
    "\n",
    "[z for z in zc if len(str(z))!=5]"
   ]
  },
  {
   "cell_type": "code",
   "execution_count": 58,
   "id": "35098893",
   "metadata": {},
   "outputs": [],
   "source": [
    "# For the value of '02134-1704', the second part is not a zipcode since it doesn't begin with 02 and has a length of 4. We can\n",
    "# be confident to use the first part only as the correct zip code\n",
    "\n",
    "df_main3.loc[df_main3['zipcode'] == '02134-1704', 'zipcode'] = df_main3.loc[\n",
    "                                    df_main3['zipcode'] == '02134-1704', 'zipcode'].str.split('-').str[0]"
   ]
  },
  {
   "cell_type": "markdown",
   "id": "0ba5576e",
   "metadata": {},
   "source": [
    "For the second value '02108 02111', I'm not sure which zip code is correct, is it the first or second part? Let's explore both codes in our data"
   ]
  },
  {
   "cell_type": "code",
   "execution_count": 60,
   "id": "828c963e",
   "metadata": {},
   "outputs": [
    {
     "data": {
      "text/plain": [
       "72"
      ]
     },
     "execution_count": 60,
     "metadata": {},
     "output_type": "execute_result"
    }
   ],
   "source": [
    "len(df_main3.loc[df_main3['zipcode'] == '02108'])"
   ]
  },
  {
   "cell_type": "code",
   "execution_count": 61,
   "id": "d9cf7088",
   "metadata": {},
   "outputs": [
    {
     "data": {
      "text/plain": [
       "99"
      ]
     },
     "execution_count": 61,
     "metadata": {},
     "output_type": "execute_result"
    }
   ],
   "source": [
    "len(df_main3.loc[df_main3['zipcode'] == '02111'])"
   ]
  },
  {
   "cell_type": "markdown",
   "id": "44241ee9",
   "metadata": {},
   "source": [
    "Both codes exist. Let's see their neighbourhoods"
   ]
  },
  {
   "cell_type": "code",
   "execution_count": 62,
   "id": "69db0766",
   "metadata": {},
   "outputs": [
    {
     "data": {
      "text/plain": [
       "735             North End\n",
       "739             North End\n",
       "755             North End\n",
       "1829          Beacon Hill\n",
       "1831          Beacon Hill\n",
       "              ...        \n",
       "2159    Downtown Crossing\n",
       "2166    Downtown Crossing\n",
       "2178          Beacon Hill\n",
       "2189          Beacon Hill\n",
       "2190    Downtown Crossing\n",
       "Name: neighbourhood, Length: 72, dtype: object"
      ]
     },
     "execution_count": 62,
     "metadata": {},
     "output_type": "execute_result"
    }
   ],
   "source": [
    "df_main3.loc[df_main3['zipcode'] == '02108']['neighbourhood']"
   ]
  },
  {
   "cell_type": "code",
   "execution_count": 63,
   "id": "bfa5aa42",
   "metadata": {},
   "outputs": [
    {
     "data": {
      "text/plain": [
       "550      Leather District\n",
       "551      Leather District\n",
       "552      Leather District\n",
       "553      Leather District\n",
       "554      Leather District\n",
       "              ...        \n",
       "2187    Downtown Crossing\n",
       "2188            Chinatown\n",
       "2191    Downtown Crossing\n",
       "2194            Chinatown\n",
       "2589                  NaN\n",
       "Name: neighbourhood, Length: 99, dtype: object"
      ]
     },
     "execution_count": 63,
     "metadata": {},
     "output_type": "execute_result"
    }
   ],
   "source": [
    "df_main3.loc[df_main3['zipcode'] == '02111']['neighbourhood']"
   ]
  },
  {
   "cell_type": "markdown",
   "id": "8f8d6578",
   "metadata": {},
   "source": [
    "Now let's see the neighbourhood of our incorrect record."
   ]
  },
  {
   "cell_type": "code",
   "execution_count": 64,
   "id": "9b5f3f3a",
   "metadata": {},
   "outputs": [
    {
     "data": {
      "text/plain": [
       "2047    Downtown Crossing\n",
       "Name: neighbourhood, dtype: object"
      ]
     },
     "execution_count": 64,
     "metadata": {},
     "output_type": "execute_result"
    }
   ],
   "source": [
    "df_main3.loc[df_main3['zipcode'] == '02108 02111']['neighbourhood']"
   ]
  },
  {
   "cell_type": "markdown",
   "id": "8e658468",
   "metadata": {},
   "source": [
    "Both zip codes have this neighbourhood. It might be an intersection of 2 zip codes. Let's write the first one for simplicity."
   ]
  },
  {
   "cell_type": "code",
   "execution_count": 65,
   "id": "75f1f642",
   "metadata": {},
   "outputs": [],
   "source": [
    "df_main3.loc[df_main3['zipcode'] == '02108 02111', 'zipcode'] = df_main3.loc[\n",
    "                                    df_main3['zipcode'] == '02108 02111', 'zipcode'].str.split().str[0]"
   ]
  },
  {
   "cell_type": "code",
   "execution_count": 66,
   "id": "69d49759",
   "metadata": {},
   "outputs": [
    {
     "data": {
      "text/plain": [
       "array(['02131', nan, '02130', '02119', '02120', '02115', '02215', '02116',\n",
       "       '02111', '02109', '02113', '02110', '02114', '02108', '02121',\n",
       "       '02118', '02125', '02124', '02210', '02218', '02142', '02128',\n",
       "       '02129', '02145', '02126', '02472', '02122', '02446', '02135',\n",
       "       '02134', '02445', '02132', '02467', '02136', '02186', '02169',\n",
       "       '02127', '02163', '02138', '02139', '02141', '02143'], dtype=object)"
      ]
     },
     "execution_count": 66,
     "metadata": {},
     "output_type": "execute_result"
    }
   ],
   "source": [
    "df_main3['zipcode'].unique()"
   ]
  },
  {
   "cell_type": "markdown",
   "id": "d8866ab3",
   "metadata": {},
   "source": [
    "Finally, let's handle the missing values. Let's see if we can derive information from other columns that have location information"
   ]
  },
  {
   "cell_type": "code",
   "execution_count": 67,
   "id": "5668d46d",
   "metadata": {},
   "outputs": [
    {
     "data": {
      "text/plain": [
       "3                    NaN\n",
       "94                   NaN\n",
       "162                  NaN\n",
       "226                  NaN\n",
       "494                  NaN\n",
       "655                  NaN\n",
       "675            North End\n",
       "740                  NaN\n",
       "882                  NaN\n",
       "948                  NaN\n",
       "1063           South End\n",
       "1150                 NaN\n",
       "1212           South End\n",
       "1291                 NaN\n",
       "1385                 NaN\n",
       "1473                 NaN\n",
       "1557                 NaN\n",
       "1601                 NaN\n",
       "1631                 NaN\n",
       "1662                 NaN\n",
       "2033                 NaN\n",
       "2151                 NaN\n",
       "2242                 NaN\n",
       "2298                 NaN\n",
       "2299      Fenway/Kenmore\n",
       "2545                 NaN\n",
       "2550                 NaN\n",
       "2805                 NaN\n",
       "2932                 NaN\n",
       "2963                 NaN\n",
       "3030                 NaN\n",
       "3058                 NaN\n",
       "3117                 NaN\n",
       "3194                 NaN\n",
       "3477                 NaN\n",
       "3529    Allston-Brighton\n",
       "3557                 NaN\n",
       "3561                 NaN\n",
       "Name: neighbourhood, dtype: object"
      ]
     },
     "execution_count": 67,
     "metadata": {},
     "output_type": "execute_result"
    }
   ],
   "source": [
    "# Retrieve neighbourhood values for records with missing zip codes\n",
    "\n",
    "nh=df_main3[df_main3['zipcode'].isna()]['neighbourhood']\n",
    "nh"
   ]
  },
  {
   "cell_type": "markdown",
   "id": "2af55a7b",
   "metadata": {},
   "source": [
    "Neighbourhood data is also missing except for a few records. Let's get the zip codes of these few existing records to fill null values in the zip column. But we need to ensure first, does every neighbourhood has a unique zip code?"
   ]
  },
  {
   "cell_type": "code",
   "execution_count": 68,
   "id": "aad1316e",
   "metadata": {},
   "outputs": [
    {
     "data": {
      "text/plain": [
       "['North End', 'South End', 'South End', 'Fenway/Kenmore', 'Allston-Brighton']"
      ]
     },
     "execution_count": 68,
     "metadata": {},
     "output_type": "execute_result"
    }
   ],
   "source": [
    "list(nh.dropna())"
   ]
  },
  {
   "cell_type": "code",
   "execution_count": 70,
   "id": "7e2198f8",
   "metadata": {},
   "outputs": [
    {
     "data": {
      "text/plain": [
       "627     02113\n",
       "628     02110\n",
       "629     02113\n",
       "630     02113\n",
       "633     02113\n",
       "        ...  \n",
       "766     02113\n",
       "767     02113\n",
       "768     02113\n",
       "2059    02110\n",
       "2148    02110\n",
       "Name: zipcode, Length: 125, dtype: object"
      ]
     },
     "execution_count": 70,
     "metadata": {},
     "output_type": "execute_result"
    }
   ],
   "source": [
    "# Check zipcodes of the first neighbourhood\n",
    "\n",
    "df_main3[df_main3['neighbourhood']=='North End']['zipcode']"
   ]
  },
  {
   "cell_type": "markdown",
   "id": "32658fb5",
   "metadata": {},
   "source": [
    "It seems that a single neighbourhood might have more than one zip code. I believe we should ignore records with missing values in the zip code column and analyze the existing data only."
   ]
  },
  {
   "cell_type": "code",
   "execution_count": 71,
   "id": "a1343f8d",
   "metadata": {},
   "outputs": [],
   "source": [
    "zipcode= df_main3.dropna(subset='zipcode', axis=0)"
   ]
  },
  {
   "cell_type": "markdown",
   "id": "2ef4e868",
   "metadata": {},
   "source": [
    "Now let's see the zipcodes with highest number of units"
   ]
  },
  {
   "cell_type": "code",
   "execution_count": 73,
   "id": "e865e6f7",
   "metadata": {},
   "outputs": [
    {
     "data": {
      "image/png": "[encoded data removed]",
      "text/plain": [
       "<Figure size 640x480 with 1 Axes>"
      ]
     },
     "metadata": {},
     "output_type": "display_data"
    }
   ],
   "source": [
    "# Visualize all zip codes with their # units\n",
    "highestzip=zipcode['zipcode'].value_counts().sort_values(ascending=True)\n",
    "highestzip.plot(kind='barh')\n",
    "\n",
    "#Adding titles and labels\n",
    "plt.title('# Listings per zipcode')\n",
    "plt.xlabel('# Listings')\n",
    "plt.ylabel('zipcode')\n",
    "plt.yticks(size=8); "
   ]
  },
  {
   "cell_type": "code",
   "execution_count": 78,
   "id": "5a300acb",
   "metadata": {},
   "outputs": [
    {
     "data": {
      "text/plain": [
       "['02116', '02130', '02118']"
      ]
     },
     "execution_count": 78,
     "metadata": {},
     "output_type": "execute_result"
    }
   ],
   "source": [
    "# Top 3 frequent zipcodes\n",
    "\n",
    "top3=list(zipcode['zipcode'].value_counts().index)[:3]\n",
    "top3"
   ]
  },
  {
   "cell_type": "markdown",
   "id": "0ed9df26",
   "metadata": {},
   "source": [
    "This answers our second question. These 3 zipcodes have the highest # of listings.\n",
    "\n",
    "Finally, I want to see how the price correlates to the property_type. What types are the most expensive?"
   ]
  },
  {
   "cell_type": "code",
   "execution_count": 79,
   "id": "a5f6a5a4",
   "metadata": {},
   "outputs": [
    {
     "data": {
      "text/plain": [
       "property_type    3\n",
       "price            0\n",
       "dtype: int64"
      ]
     },
     "execution_count": 79,
     "metadata": {},
     "output_type": "execute_result"
    }
   ],
   "source": [
    "p_type=df_main3[['property_type','price']]\n",
    "p_type.isna().sum()"
   ]
  },
  {
   "cell_type": "code",
   "execution_count": 80,
   "id": "1b37e35a",
   "metadata": {},
   "outputs": [
    {
     "data": {
      "text/plain": [
       "3585"
      ]
     },
     "execution_count": 80,
     "metadata": {},
     "output_type": "execute_result"
    }
   ],
   "source": [
    "len(p_type)"
   ]
  },
  {
   "cell_type": "markdown",
   "id": "2b04cfae",
   "metadata": {},
   "source": [
    "property_type column has only 3 missing values, while price doesn't have any missing values. Let's drop the 3 values because they won't impact our results since they are a very small % of our data."
   ]
  },
  {
   "cell_type": "code",
   "execution_count": 81,
   "id": "310385cc",
   "metadata": {},
   "outputs": [],
   "source": [
    "p_type.dropna(inplace=True)"
   ]
  },
  {
   "cell_type": "code",
   "execution_count": 82,
   "id": "443dca38",
   "metadata": {},
   "outputs": [
    {
     "data": {
      "text/html": [
       "<div>\n",
       "<style scoped>\n",
       "    .dataframe tbody tr th:only-of-type {\n",
       "        vertical-align: middle;\n",
       "    }\n",
       "\n",
       "    .dataframe tbody tr th {\n",
       "        vertical-align: top;\n",
       "    }\n",
       "\n",
       "    .dataframe thead th {\n",
       "        text-align: right;\n",
       "    }\n",
       "</style>\n",
       "<table border=\"1\" class=\"dataframe\">\n",
       "  <thead>\n",
       "    <tr style=\"text-align: right;\">\n",
       "      <th></th>\n",
       "      <th>property_type</th>\n",
       "      <th>price</th>\n",
       "    </tr>\n",
       "  </thead>\n",
       "  <tbody>\n",
       "    <tr>\n",
       "      <th>0</th>\n",
       "      <td>House</td>\n",
       "      <td>$250.00</td>\n",
       "    </tr>\n",
       "  </tbody>\n",
       "</table>\n",
       "</div>"
      ],
      "text/plain": [
       "  property_type    price\n",
       "0         House  $250.00"
      ]
     },
     "execution_count": 82,
     "metadata": {},
     "output_type": "execute_result"
    }
   ],
   "source": [
    "p_type.head(1)"
   ]
  },
  {
   "cell_type": "code",
   "execution_count": 83,
   "id": "3c12ba26",
   "metadata": {},
   "outputs": [
    {
     "name": "stdout",
     "output_type": "stream",
     "text": [
      "<class 'pandas.core.frame.DataFrame'>\n",
      "Index: 3582 entries, 0 to 3584\n",
      "Data columns (total 2 columns):\n",
      " #   Column         Non-Null Count  Dtype \n",
      "---  ------         --------------  ----- \n",
      " 0   property_type  3582 non-null   object\n",
      " 1   price          3582 non-null   object\n",
      "dtypes: object(2)\n",
      "memory usage: 84.0+ KB\n"
     ]
    }
   ],
   "source": [
    "p_type.info()"
   ]
  },
  {
   "cell_type": "markdown",
   "id": "50240039",
   "metadata": {},
   "source": [
    "We need to remove the $ from the price column to be able to aggregate it"
   ]
  },
  {
   "cell_type": "code",
   "execution_count": 85,
   "id": "4e5a53c1",
   "metadata": {},
   "outputs": [
    {
     "name": "stdout",
     "output_type": "stream",
     "text": [
      "<class 'pandas.core.frame.DataFrame'>\n",
      "Index: 3582 entries, 0 to 3584\n",
      "Data columns (total 2 columns):\n",
      " #   Column         Non-Null Count  Dtype  \n",
      "---  ------         --------------  -----  \n",
      " 0   property_type  3582 non-null   object \n",
      " 1   price          3582 non-null   float64\n",
      "dtypes: float64(1), object(1)\n",
      "memory usage: 84.0+ KB\n"
     ]
    }
   ],
   "source": [
    "p_type['price'] = p_type['price'].replace({'\\$': '', ',': ''}, regex=True).astype(float)  # Remove $ and commas\n",
    "p_type.info()"
   ]
  },
  {
   "cell_type": "code",
   "execution_count": 104,
   "id": "7f3089b7",
   "metadata": {},
   "outputs": [
    {
     "data": {
      "text/html": [
       "<div>\n",
       "<style scoped>\n",
       "    .dataframe tbody tr th:only-of-type {\n",
       "        vertical-align: middle;\n",
       "    }\n",
       "\n",
       "    .dataframe tbody tr th {\n",
       "        vertical-align: top;\n",
       "    }\n",
       "\n",
       "    .dataframe thead tr th {\n",
       "        text-align: left;\n",
       "    }\n",
       "</style>\n",
       "<table border=\"1\" class=\"dataframe\">\n",
       "  <thead>\n",
       "    <tr>\n",
       "      <th></th>\n",
       "      <th>property_type</th>\n",
       "      <th colspan=\"2\" halign=\"left\">price</th>\n",
       "    </tr>\n",
       "    <tr>\n",
       "      <th></th>\n",
       "      <th></th>\n",
       "      <th>mean</th>\n",
       "      <th>count</th>\n",
       "    </tr>\n",
       "  </thead>\n",
       "  <tbody>\n",
       "    <tr>\n",
       "      <th>7</th>\n",
       "      <td>Guesthouse</td>\n",
       "      <td>289.000000</td>\n",
       "      <td>1</td>\n",
       "    </tr>\n",
       "    <tr>\n",
       "      <th>2</th>\n",
       "      <td>Boat</td>\n",
       "      <td>268.833333</td>\n",
       "      <td>12</td>\n",
       "    </tr>\n",
       "    <tr>\n",
       "      <th>10</th>\n",
       "      <td>Other</td>\n",
       "      <td>229.941176</td>\n",
       "      <td>17</td>\n",
       "    </tr>\n",
       "    <tr>\n",
       "      <th>4</th>\n",
       "      <td>Condominium</td>\n",
       "      <td>190.246753</td>\n",
       "      <td>231</td>\n",
       "    </tr>\n",
       "    <tr>\n",
       "      <th>12</th>\n",
       "      <td>Villa</td>\n",
       "      <td>189.500000</td>\n",
       "      <td>6</td>\n",
       "    </tr>\n",
       "    <tr>\n",
       "      <th>9</th>\n",
       "      <td>Loft</td>\n",
       "      <td>185.410256</td>\n",
       "      <td>39</td>\n",
       "    </tr>\n",
       "    <tr>\n",
       "      <th>0</th>\n",
       "      <td>Apartment</td>\n",
       "      <td>181.966692</td>\n",
       "      <td>2612</td>\n",
       "    </tr>\n",
       "    <tr>\n",
       "      <th>11</th>\n",
       "      <td>Townhouse</td>\n",
       "      <td>149.037037</td>\n",
       "      <td>54</td>\n",
       "    </tr>\n",
       "    <tr>\n",
       "      <th>8</th>\n",
       "      <td>House</td>\n",
       "      <td>131.599644</td>\n",
       "      <td>562</td>\n",
       "    </tr>\n",
       "    <tr>\n",
       "      <th>1</th>\n",
       "      <td>Bed &amp; Breakfast</td>\n",
       "      <td>129.365854</td>\n",
       "      <td>41</td>\n",
       "    </tr>\n",
       "    <tr>\n",
       "      <th>6</th>\n",
       "      <td>Entire Floor</td>\n",
       "      <td>122.000000</td>\n",
       "      <td>4</td>\n",
       "    </tr>\n",
       "    <tr>\n",
       "      <th>5</th>\n",
       "      <td>Dorm</td>\n",
       "      <td>62.500000</td>\n",
       "      <td>2</td>\n",
       "    </tr>\n",
       "    <tr>\n",
       "      <th>3</th>\n",
       "      <td>Camper/RV</td>\n",
       "      <td>60.000000</td>\n",
       "      <td>1</td>\n",
       "    </tr>\n",
       "  </tbody>\n",
       "</table>\n",
       "</div>"
      ],
      "text/plain": [
       "      property_type       price      \n",
       "                           mean count\n",
       "7        Guesthouse  289.000000     1\n",
       "2              Boat  268.833333    12\n",
       "10            Other  229.941176    17\n",
       "4       Condominium  190.246753   231\n",
       "12            Villa  189.500000     6\n",
       "9              Loft  185.410256    39\n",
       "0         Apartment  181.966692  2612\n",
       "11        Townhouse  149.037037    54\n",
       "8             House  131.599644   562\n",
       "1   Bed & Breakfast  129.365854    41\n",
       "6      Entire Floor  122.000000     4\n",
       "5              Dorm   62.500000     2\n",
       "3         Camper/RV   60.000000     1"
      ]
     },
     "execution_count": 104,
     "metadata": {},
     "output_type": "execute_result"
    }
   ],
   "source": [
    "# Calculate the average price/type\n",
    "avg_price=p_type.groupby('property_type').agg(['mean','count']).reset_index().sort_values(by=('price', 'mean'), ascending=False)\n",
    "avg_price"
   ]
  },
  {
   "cell_type": "markdown",
   "id": "893d43b9",
   "metadata": {},
   "source": [
    "Most expensive type is Guesthouse followed by boats, but Guesthouse has 1 entry only, so we can't rely on it as a measurement for standard prices of guesthouses.\n",
    "\n",
    "This answers our third question.\n",
    "\n",
    "Let's plot the variability of prices for each type"
   ]
  },
  {
   "cell_type": "code",
   "execution_count": 107,
   "id": "0be5312d",
   "metadata": {
    "scrolled": false
   },
   "outputs": [
    {
     "data": {
      "image/png": "[encoded data removed]",
      "text/plain": [
       "<Figure size 640x480 with 1 Axes>"
      ]
     },
     "metadata": {},
     "output_type": "display_data"
    }
   ],
   "source": [
    "# Box plot\n",
    "sns.boxplot(x='property_type', y='price', data=p_type, showfliers=False) # showfliers to exclude outliers\n",
    "plt.xticks(rotation=90)\n",
    "plt.title('Price Variability by Type');"
   ]
  },
  {
   "cell_type": "markdown",
   "id": "bfccaf95",
   "metadata": {},
   "source": [
    "We notice that there is a huge variability in the prices of \"Villa\" and \"Other\" types, while Guesthouses and campers don't have any variability because their count is 1 only."
   ]
  },
  {
   "cell_type": "markdown",
   "id": "b89c4b8d",
   "metadata": {},
   "source": [
    "### 4.Conclusion:\n",
    "\n",
    "To recap, we had a 3 questions that we were interested to answer using our data as below,\n",
    "\n",
    "1- Extract the listings with the highest # of reviews (top 10). Which one got the highest % of positive reviews?\n",
    "\n",
    "***By exploring the data, we found that listing_id 815639 has the highest % of positive reviews (97.15%)***\n",
    "\n",
    "2- What are the top 3 most frequent neighbourhoods or zipcodes in Boston? (zipcodes with highest number of listings).\n",
    "\n",
    "***The highest zipcodes were ['02116', '02130', '02118']. We started by exploring the neighbourhood column, but it had around 15% missing values with no other source to impute the missing values, so we considered the zip code column***\n",
    "\n",
    "3- How the price correlates to the property_type? What types are the most expensive?\n",
    "\n",
    "***It was found that Guesthouse has the highest average price, but since we only had 1 record with this type, we moved to the next highest type which was \"Boat\"***\n",
    "\n",
    "By this, we have come to the end of our analysis."
   ]
  },
  {
   "cell_type": "markdown",
   "id": "898f6a9a",
   "metadata": {},
   "source": [
    "### Thank you"
   ]
  }
 ],
 "metadata": {
  "kernelspec": {
   "display_name": "Python 3 (ipykernel)",
   "language": "python",
   "name": "python3"
  },
  "language_info": {
   "codemirror_mode": {
    "name": "ipython",
    "version": 3
   },
   "file_extension": ".py",
   "mimetype": "text/x-python",
   "name": "python",
   "nbconvert_exporter": "python",
   "pygments_lexer": "ipython3",
   "version": "3.10.9"
  }
 },
 "nbformat": 4,
 "nbformat_minor": 5
}
